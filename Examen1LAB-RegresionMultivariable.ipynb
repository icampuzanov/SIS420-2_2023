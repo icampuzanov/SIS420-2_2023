{
  "nbformat": 4,
  "nbformat_minor": 0,
  "metadata": {
    "colab": {
      "provenance": [],
      "authorship_tag": "ABX9TyMdGsTj1J5Hn2pJYVq7QjO/",
      "include_colab_link": true
    },
    "kernelspec": {
      "name": "python3",
      "display_name": "Python 3"
    },
    "language_info": {
      "name": "python"
    }
  },
  "cells": [
    {
      "cell_type": "markdown",
      "metadata": {
        "id": "view-in-github",
        "colab_type": "text"
      },
      "source": [
        "<a href=\"https://colab.research.google.com/github/icampuzanov/SIS420-2_2023/blob/main/Examen1LAB-RegresionMultivariable.ipynb\" target=\"_parent\"><img src=\"https://colab.research.google.com/assets/colab-badge.svg\" alt=\"Open In Colab\"/></a>"
      ]
    },
    {
      "cell_type": "code",
      "source": [
        "# utilizado para manejos de directorios y rutas\n",
        "import torch\n",
        "import torch.nn as nn\n",
        "import torch.optim as optim\n",
        "import pandas as pd\n",
        "import numpy as np\n",
        "from sklearn.preprocessing import LabelEncoder\n",
        "from sklearn.model_selection import train_test_split\n",
        "from sklearn.preprocessing import StandardScaler"
      ],
      "metadata": {
        "id": "s-nc3snAI9jw"
      },
      "execution_count": 41,
      "outputs": []
    },
    {
      "cell_type": "code",
      "source": [
        "#Carga de dataset\n",
        "data = pd.read_csv('/content/Sport car price.csv')\n"
      ],
      "metadata": {
        "id": "iDK8H5rwJGce"
      },
      "execution_count": 42,
      "outputs": []
    },
    {
      "cell_type": "code",
      "source": [
        "columnas_eliminar = ['Engine Size (L)']\n",
        "simbolo = 'Electric Motor'\n",
        "\n",
        "for columna in columnas_eliminar:\n",
        "    data[columna] = data[columna].str.replace(simbolo, '7', regex=False)\n",
        "\n",
        "\n",
        "\n",
        "columnas_eliminar = ['Price (in USD)']\n",
        "simbolo = ','\n",
        "\n",
        "for columna in columnas_eliminar:\n",
        "    data[columna] = data[columna].str.replace(simbolo, '', regex=False)\n",
        "\n",
        "\n",
        "# Lista de columnas categóricas que deseas convertir\n",
        "columnas_categoricas = ['Engine Size (L)', 'Horsepower', 'Torque (lb-ft)', '0-60 MPH Time (seconds)', 'Price (in USD)']\n",
        "\n",
        "# Convertir las columnas categóricas a numéricas\n",
        "for columna in columnas_categoricas:\n",
        "    data[columna] = pd.to_numeric(data[columna], errors='coerce')\n",
        "\n",
        "\n",
        ""
      ],
      "metadata": {
        "id": "tTWmn62hMPUI"
      },
      "execution_count": 43,
      "outputs": []
    },
    {
      "cell_type": "code",
      "source": [
        "#variables categoricas\n",
        "columnas_categoricas = data.select_dtypes(include=['object']).columns\n",
        "# variables fechas\n",
        "# columnas_fechas = data.select_dtypes(include=['datetime64']).columns\n",
        "\n",
        "\n",
        "\n",
        "#Procesamiento de frases o palabras\n",
        "for columna in columnas_categoricas:\n",
        "  le = LabelEncoder()\n",
        "  data[columna] = le.fit_transform(data[columna])\n",
        "\n",
        "\n",
        "\n",
        "#llenar datos vacios\n",
        "columnas_especificas = ['Engine Size (L)', 'Horsepower', 'Torque (lb-ft)', '0-60 MPH Time (seconds)']\n",
        "media_columnas = data[columnas_especificas].mean()\n",
        "data[columnas_especificas] = data[columnas_especificas].fillna(media_columnas)\n"
      ],
      "metadata": {
        "id": "VPWZbhFOM89o"
      },
      "execution_count": 44,
      "outputs": []
    },
    {
      "cell_type": "code",
      "source": [
        "print(data)"
      ],
      "metadata": {
        "colab": {
          "base_uri": "https://localhost:8080/"
        },
        "id": "mGbCtAftNGOf",
        "outputId": "72e0b3f8-38dc-4b49-bce8-4f13b6ff4a0b"
      },
      "execution_count": 45,
      "outputs": [
        {
          "output_type": "stream",
          "name": "stdout",
          "text": [
            "      Car Make  Car Model  Year  Engine Size (L)  Horsepower  Torque (lb-ft)  \\\n",
            "0           28         18  2022              3.0       379.0           331.0   \n",
            "1           16         98  2021              5.2       630.0           443.0   \n",
            "2           11          5  2022              3.9       661.0           561.0   \n",
            "3            5        130  2022              5.2       562.0           406.0   \n",
            "4           21         15  2021              4.0       710.0           568.0   \n",
            "...        ...        ...   ...              ...         ...             ...   \n",
            "1002        15         99  2022              5.0      1280.0          1106.0   \n",
            "1003        18         76  2021              7.0      1972.0          1254.0   \n",
            "1004        21        157  2021              4.0       789.0           590.0   \n",
            "1005        25         95  2021              6.0       764.0           738.0   \n",
            "1006        29        122  2021              7.0      1888.0          1696.0   \n",
            "\n",
            "      0-60 MPH Time (seconds)  Price (in USD)  \n",
            "0                        4.00          101200  \n",
            "1                        2.80          274390  \n",
            "2                        3.00          333750  \n",
            "3                        3.20          142700  \n",
            "4                        2.70          298000  \n",
            "...                       ...             ...  \n",
            "1002                     2.50         3000000  \n",
            "1003                     2.00         2000000  \n",
            "1004                     2.70         1000000  \n",
            "1005                     3.00         2600000  \n",
            "1006                     1.85         2400000  \n",
            "\n",
            "[1007 rows x 8 columns]\n"
          ]
        }
      ]
    },
    {
      "cell_type": "code",
      "source": [
        "data.info()\n"
      ],
      "metadata": {
        "colab": {
          "base_uri": "https://localhost:8080/"
        },
        "id": "4_DtfdoaNI9g",
        "outputId": "72c5b5d5-efe3-4ad0-9136-1e3905a5545e"
      },
      "execution_count": 46,
      "outputs": [
        {
          "output_type": "stream",
          "name": "stdout",
          "text": [
            "<class 'pandas.core.frame.DataFrame'>\n",
            "RangeIndex: 1007 entries, 0 to 1006\n",
            "Data columns (total 8 columns):\n",
            " #   Column                   Non-Null Count  Dtype  \n",
            "---  ------                   --------------  -----  \n",
            " 0   Car Make                 1007 non-null   int64  \n",
            " 1   Car Model                1007 non-null   int64  \n",
            " 2   Year                     1007 non-null   int64  \n",
            " 3   Engine Size (L)          1007 non-null   float64\n",
            " 4   Horsepower               1007 non-null   float64\n",
            " 5   Torque (lb-ft)           1007 non-null   float64\n",
            " 6   0-60 MPH Time (seconds)  1007 non-null   float64\n",
            " 7   Price (in USD)           1007 non-null   int64  \n",
            "dtypes: float64(4), int64(4)\n",
            "memory usage: 63.1 KB\n"
          ]
        }
      ]
    },
    {
      "cell_type": "code",
      "source": [
        "# Lectura de Datos\n",
        "columnas_seleccionadas = list(range(0, 7))\n",
        "X = data.iloc[:, columnas_seleccionadas]\n",
        "y = data.iloc[:, 7].values.reshape(-1,1)\n",
        "\n",
        "\n",
        "scaler_X = StandardScaler()\n",
        "scaler_y = StandardScaler()\n",
        "\n",
        "X = scaler_X.fit_transform(X)\n",
        "y = scaler_y.fit_transform(y.reshape(-1,1))\n",
        "\n"
      ],
      "metadata": {
        "id": "AhvVGxa7NWbf"
      },
      "execution_count": 21,
      "outputs": []
    },
    {
      "cell_type": "code",
      "source": [
        "print(y)"
      ],
      "metadata": {
        "colab": {
          "base_uri": "https://localhost:8080/"
        },
        "id": "p153ZUxcQZDj",
        "outputId": "5b1e1b00-9522-476d-f226-5aa8b4dc7eb5"
      },
      "execution_count": 47,
      "outputs": [
        {
          "output_type": "stream",
          "name": "stdout",
          "text": [
            "[[-0.38055918]\n",
            " [-0.1458704 ]\n",
            " [-0.065432  ]\n",
            " ...\n",
            " [ 0.83739957]\n",
            " [ 3.00555042]\n",
            " [ 2.73453157]]\n"
          ]
        }
      ]
    },
    {
      "cell_type": "code",
      "source": [
        "X_train, X_test, y_train, y_test = train_test_split(X, y, test_size=0.2, random_state=42)\n",
        "\n",
        "X_train_tensor = torch.from_numpy(X_train).float()\n",
        "y_train_tensor = torch.from_numpy(y_train).float()\n",
        "X_test_tensor = torch.from_numpy(X_test).float()\n",
        "y_test_tensor = torch.from_numpy(y_test).float()"
      ],
      "metadata": {
        "id": "Wu0FbKJCPCUm"
      },
      "execution_count": 48,
      "outputs": []
    },
    {
      "cell_type": "code",
      "source": [
        "# Modelo de regresión lineal expresado en una clase\n",
        "class LinearRegression(nn.Module):\n",
        "    def __init__(self, input_size):\n",
        "        super(LinearRegression, self).__init__()\n",
        "        self.linear = nn.Linear(input_size, 1)  # Salida: una dimensión\n",
        "\n",
        "    def forward(self, x):\n",
        "        return self.linear(x)"
      ],
      "metadata": {
        "id": "-XqO59kyPbEa"
      },
      "execution_count": 53,
      "outputs": []
    },
    {
      "cell_type": "code",
      "source": [
        "#Dimensiones de entrada y salida del modelo\n",
        "input_size = X_train.shape[1] # El número de características en X\n",
        "output_size = 1"
      ],
      "metadata": {
        "id": "05ggH4MAPf5B"
      },
      "execution_count": 54,
      "outputs": []
    },
    {
      "cell_type": "code",
      "source": [
        "modelo = LinearRegression(input_size)\n",
        "criterio = nn.MSELoss()\n",
        "optimizador = optim.SGD(modelo.parameters(), lr=0.01)\n"
      ],
      "metadata": {
        "id": "O005bhDwPuWR"
      },
      "execution_count": 55,
      "outputs": []
    },
    {
      "cell_type": "code",
      "source": [
        "num_epochs = 1000\n",
        "for epoch in range(num_epochs):\n",
        "    # Forward pass\n",
        "    outputs = modelo(X_train_tensor)\n",
        "    loss = criterio(outputs, y_train_tensor)\n",
        "\n",
        "    # Backward pass y optimización\n",
        "    optimizador.zero_grad()\n",
        "    loss.backward()\n",
        "    optimizador.step()\n",
        "\n",
        "    if (epoch + 1) % 100 == 0:\n",
        "        print(f'Época [{epoch + 1}/{num_epochs}], Pérdida: {loss.item():.4f}')"
      ],
      "metadata": {
        "colab": {
          "base_uri": "https://localhost:8080/"
        },
        "id": "bvX0DoOQPzux",
        "outputId": "e94cb3e9-af25-40fe-f7e8-eefc61f6c109"
      },
      "execution_count": 56,
      "outputs": [
        {
          "output_type": "stream",
          "name": "stdout",
          "text": [
            "Época [100/1000], Pérdida: 0.4052\n",
            "Época [200/1000], Pérdida: 0.3731\n",
            "Época [300/1000], Pérdida: 0.3612\n",
            "Época [400/1000], Pérdida: 0.3544\n",
            "Época [500/1000], Pérdida: 0.3497\n",
            "Época [600/1000], Pérdida: 0.3460\n",
            "Época [700/1000], Pérdida: 0.3431\n",
            "Época [800/1000], Pérdida: 0.3408\n",
            "Época [900/1000], Pérdida: 0.3389\n",
            "Época [1000/1000], Pérdida: 0.3374\n"
          ]
        }
      ]
    },
    {
      "cell_type": "code",
      "source": [
        "#Pruebas\n",
        "import random\n",
        "num_examples_to_show = 10\n",
        "\n",
        "y_pred = modelo(X_test_tensor)\n",
        "\n",
        "#Obtén índices aleatorios de ejemplos en el conjunto de prueba\n",
        "random_indices = random.sample(range(len(X_test)), num_examples_to_show)\n",
        "\n",
        "\n",
        "for i in random_indices:\n",
        "    real_value = scaler_y.inverse_transform(y_test[i].reshape(-1, 1))[0][0]\n",
        "    predicted_value = scaler_y.inverse_transform(y_pred[i].detach().numpy().reshape(-1, 1))[0][0]\n",
        "    print(f'Test {i + 1}: Precio Real vs Predecido: {real_value:.2f}, : {predicted_value:.2f}')\n"
      ],
      "metadata": {
        "colab": {
          "base_uri": "https://localhost:8080/"
        },
        "id": "zpYhaYmpP4cZ",
        "outputId": "9bece07e-ced2-43ce-d9ef-9f6b82a87fe7"
      },
      "execution_count": 61,
      "outputs": [
        {
          "output_type": "stream",
          "name": "stdout",
          "text": [
            "Test 189: Precio Real vs Predecido: 218400.00, : 469846.41\n",
            "Test 25: Precio Real vs Predecido: 75400.00, : -61415.56\n",
            "Test 158: Precio Real vs Predecido: 60695.00, : 624386.75\n",
            "Test 102: Precio Real vs Predecido: 92950.00, : 153468.09\n",
            "Test 175: Precio Real vs Predecido: 500000.00, : 322813.72\n",
            "Test 23: Precio Real vs Predecido: 417650.00, : 516302.97\n",
            "Test 137: Precio Real vs Predecido: 105000.00, : -70549.90\n",
            "Test 202: Precio Real vs Predecido: 274280.00, : 438797.28\n",
            "Test 106: Precio Real vs Predecido: 76400.00, : 110404.82\n",
            "Test 200: Precio Real vs Predecido: 142086.00, : 72953.38\n"
          ]
        }
      ]
    },
    {
      "cell_type": "code",
      "source": [
        "import random\n",
        "import matplotlib.pyplot as plt\n",
        "\n",
        "# Número de ejemplos a mostrar en el gráfico\n",
        "num_examples_to_show = 10\n",
        "\n",
        "# Obtén índices aleatorios de ejemplos en el conjunto de prueba\n",
        "random_indices = random.sample(range(len(X_test)), num_examples_to_show)\n",
        "\n",
        "# Crear listas para almacenar valores reales y predichos\n",
        "real_values = []\n",
        "predicted_values = []\n",
        "\n",
        "for i in random_indices:\n",
        "    real_value = scaler_y.inverse_transform(y_test[i].reshape(-1, 1))[0][0]\n",
        "    predicted_value = scaler_y.inverse_transform(y_pred[i].detach().numpy().reshape(-1, 1))[0][0]\n",
        "    real_values.append(real_value)\n",
        "    predicted_values.append(predicted_value)\n",
        "\n",
        "# Crear una lista de números de ejemplo para etiquetas en el gráfico\n",
        "example_numbers = list(range(1, num_examples_to_show + 1))\n",
        "\n",
        "# Crear el gráfico\n",
        "plt.figure(figsize=(10, 6))\n",
        "plt.plot(example_numbers, real_values, marker='o', linestyle='-', label='Real')\n",
        "plt.plot(example_numbers, predicted_values, marker='o', linestyle='-', label='Predicho')\n",
        "plt.xlabel('Ejemplo')\n",
        "plt.ylabel('Valor')\n",
        "plt.title('Valores Reales vs. Predichos')\n",
        "plt.legend()\n",
        "plt.grid(True)\n",
        "plt.show()\n"
      ],
      "metadata": {
        "id": "a_abn6spTzH6",
        "outputId": "3d77e3a9-1cac-4461-fd6e-0a5df547a038",
        "colab": {
          "base_uri": "https://localhost:8080/",
          "height": 564
        }
      },
      "execution_count": 63,
      "outputs": [
        {
          "output_type": "display_data",
          "data": {
            "text/plain": [
              "<Figure size 1000x600 with 1 Axes>"
            ],
            "image/png": "[encoded data removed]"
          },
          "metadata": {}
        }
      ]
    }
  ]
}