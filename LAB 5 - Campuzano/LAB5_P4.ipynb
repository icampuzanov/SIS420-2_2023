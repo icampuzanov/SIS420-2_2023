{
  "nbformat": 4,
  "nbformat_minor": 0,
  "metadata": {
    "colab": {
      "provenance": []
    },
    "kernelspec": {
      "name": "python3",
      "display_name": "Python 3"
    },
    "language_info": {
      "name": "python"
    }
  },
  "cells": [
    {
      "cell_type": "code",
      "source": [
        "import random\n",
        "\n",
        "\n",
        "class NodoBI:\n",
        "    def __init__(self, estado, padre = None, hijo = None, accion = None, costo = 0):\n",
        "        self.estado = estado\n",
        "        self.padre = padre\n",
        "        self.hijo = None\n",
        "        self.accion = accion\n",
        "        self.costo = costo\n",
        "        self.set_hijo(hijo)\n",
        "\n",
        "    def set_estado(self, estado):\n",
        "        self.estado = estado\n",
        "\n",
        "    def get_estado(self):\n",
        "        return self.estado\n",
        "\n",
        "    def set_datos(self, estado):\n",
        "        self.estado = estado\n",
        "\n",
        "    def get_datos(self):\n",
        "      return self.estado\n",
        "\n",
        "    def get_padre(self):\n",
        "        return self.padre\n",
        "\n",
        "    def set_padre(self, padre):\n",
        "        self.padre = padre\n",
        "\n",
        "    def set_hijo(self, hijo):\n",
        "        self.hijo = hijo\n",
        "        if self.hijo is not None:\n",
        "            for s in self.hijo:\n",
        "                s.padre = self\n",
        "\n",
        "    def get_hijo(self):\n",
        "        return self.hijo\n",
        "\n",
        "    def set_accion(self, accion):\n",
        "        self.accion = accion\n",
        "\n",
        "    def get_accion(self):\n",
        "        return self.accion\n",
        "\n",
        "    def set_costo(self, costo):\n",
        "        self.costo = costo\n",
        "\n",
        "    def get_costo(self):\n",
        "        return self.costo\n",
        "\n",
        "    def equal(self, nodo):\n",
        "        if self.get_estado() == nodo.get_estado():\n",
        "            return True\n",
        "        else:\n",
        "            return False\n",
        "\n",
        "    def en_lista(self, nodo_lista):\n",
        "        enlistado = False\n",
        "        for n in nodo_lista:\n",
        "            if self.equal(n):\n",
        "                enlistado = True\n",
        "        return enlistado\n",
        "\n",
        "    def expandir(self, problem):\n",
        "        \"\"\"List the nodes reachable in one step from this node.\"\"\"\n",
        "        return [self.child_node(problem, accion)\n",
        "                for accion in problem.acciones(self.estado)]\n",
        "\n",
        "    def obtenerCamino(self):\n",
        "        #Retorna la lista de los nodos que conforman el camino desde el nodo inicio al nodo actual.\n",
        "        nodo, camino_regreso = self, []\n",
        "        while nodo:\n",
        "            camino_regreso.append(nodo)\n",
        "            nodo = nodo.padre\n",
        "        return list(reversed(camino_regreso))\n",
        "\n",
        "    def obtenerSolucion(self):\n",
        "        #Retorna la secuencia de acciones desde el nodo inicio al nodo actual.\n",
        "        return [nodo.accion for nodo in self.obtenerCamino()[1:]]\n",
        "\n",
        "    def __str__(self):\n",
        "        return str(self.get_estado())"
      ],
      "metadata": {
        "id": "x-ucbzBoBV3y"
      },
      "execution_count": 17,
      "outputs": []
    },
    {
      "cell_type": "code",
      "source": [
        "def generar_estado_inicial(N):\n",
        "    estado_inicial = list(range(1, N + 1))\n",
        "    random.shuffle(estado_inicial)\n",
        "    return estado_inicial"
      ],
      "metadata": {
        "id": "1qO76cTKLa83"
      },
      "execution_count": 18,
      "outputs": []
    },
    {
      "cell_type": "code",
      "source": [
        "def busqueda_heuristica(nodo_inicial, solucion, visitados, n=4):\n",
        "    visitados.append(nodo_inicial.get_estado())\n",
        "    if nodo_inicial.get_estado() == solucion:\n",
        "        return nodo_inicial\n",
        "    else:\n",
        "        # Expandir nodos sucesores (hijos)\n",
        "        nodo_estado = nodo_inicial.get_estado()\n",
        "        hijos = []\n",
        "        for i in range(n - 1):\n",
        "            for j in range(i + 1, n):\n",
        "                hijo = nodo_estado[:]\n",
        "                hijo[i], hijo[j] = hijo[j], hijo[i]  # Intercambia elementos en la lista\n",
        "                hijos.append(NodoBI(hijo, nodo_inicial))\n",
        "        nodo_inicial.set_hijo(hijos)\n",
        "\n",
        "        for hijo_node in nodo_inicial.get_hijo():\n",
        "            if not hijo_node.get_estado() in visitados and heuristica(nodo_inicial, hijo_node):\n",
        "                # Llamada recursiva\n",
        "                solu = busqueda_heuristica(hijo_node, solucion, visitados, n)\n",
        "                if solu is not None:\n",
        "                    return solu\n",
        "        return None\n",
        "\n"
      ],
      "metadata": {
        "id": "dnb98s6VzYDX"
      },
      "execution_count": 19,
      "outputs": []
    },
    {
      "cell_type": "code",
      "source": [
        "def heuristica_inversion_mejor_estado(padre_node, hijo_node):\n",
        "    padre_data = padre_node.get_estado()\n",
        "    hijo_data = hijo_node.get_estado()\n",
        "\n",
        "    inversiones_padre = 0\n",
        "    inversiones_hijo = 0\n",
        "\n",
        "    for i in range(len(padre_data)):\n",
        "        for j in range(i + 1, len(padre_data)):\n",
        "            if padre_data[i] > padre_data[j]:\n",
        "                inversiones_padre += 1\n",
        "            if hijo_data[i] > hijo_data[j]:\n",
        "                inversiones_hijo += 1\n",
        "\n",
        "    return padre_node if inversiones_padre <= inversiones_hijo else hijo_node\n",
        "\n",
        "#Heurística por Inversión:\n",
        "#Una inversión ocurre cuando un número está en una posición más grande que su valor. Por ejemplo, si el número 3 está en una posición anterior al número 5 en el estado actual, hay una inversión.\n",
        "\n",
        "#FUNCIONAMIENTO:\n",
        "#La heurística recibe dos nodos como entrada: el nodo padre y el nodo hijo.\n",
        "#Calcula el número de inversiones en el estado del padre y el estado del hijo.\n",
        "#Compara el número de inversiones en el estado del padre con el número de inversiones en el estado del hijo.\n",
        "#Devuelve el nodo con la menor cantidad de inversiones como el \"mejor estado\". Si el nodo hijo tiene menos inversiones que el nodo padre, se devuelve el nodo hijo; de lo contrario, se devuelve el nodo padre.\n",
        "\n",
        "#La calidad del nodo padre e hijo se evaluara dependiendo a la cantidad de inversiones, mientras menos inversiones tenga un nodo, mejor sera la calidad y se usara el nodo mas efectivo"
      ],
      "metadata": {
        "id": "joU6JckhLdsW"
      },
      "execution_count": 35,
      "outputs": []
    },
    {
      "cell_type": "code",
      "source": [
        "import time\n",
        "\n",
        "# Registra el tiempo actual antes de ejecutar el código\n",
        "inicio = time.time()\n",
        "\n",
        "\n",
        "if __name__ == \"__main__\":\n",
        "\n",
        "    N = 4\n",
        "    estado_inicial = generar_estado_inicial(N)\n",
        "    estado_solucion = list(range(1, N + 1))\n",
        "\n",
        "    visitados_nodes = []\n",
        "    nodo_inicial = NodoBI(estado_inicial)\n",
        "    nodo_solucion = busqueda_heuristica(nodo_inicial, estado_solucion, visitados_nodes, N)\n",
        "\n",
        "    print(nodo_solucion)\n",
        "\n",
        "    resultado = []\n",
        "\n",
        "    node = nodo_solucion\n",
        "    while node.get_padre() is not None:\n",
        "        resultado.append(node.get_estado())\n",
        "        node = node.get_padre()\n",
        "    resultado.append(estado_inicial)\n",
        "    resultado.reverse()\n",
        "    print(resultado)\n",
        "\n",
        "    fin = time.time()\n",
        "\n",
        "# Calcula el tiempo transcurrido restando el tiempo de inicio del tiempo de finalización\n",
        "tiempo_transcurrido = fin - inicio\n",
        "\n",
        "print(f\"El código tardó {tiempo_transcurrido} segundos en ejecutarse.\")"
      ],
      "metadata": {
        "colab": {
          "base_uri": "https://localhost:8080/"
        },
        "id": "7TK31n6s6_0D",
        "outputId": "7d7ec959-867e-44f6-b504-f984ce0800b8"
      },
      "execution_count": 38,
      "outputs": [
        {
          "output_type": "stream",
          "name": "stdout",
          "text": [
            "[1, 2, 3, 4]\n",
            "[[2, 3, 4, 1], [3, 2, 4, 1], [4, 2, 3, 1], [2, 4, 3, 1], [3, 4, 2, 1], [4, 3, 2, 1], [1, 3, 2, 4], [3, 1, 2, 4], [2, 1, 3, 4], [1, 2, 3, 4]]\n",
            "El código tardó 0.0030388832092285156 segundos en ejecutarse.\n"
          ]
        }
      ]
    }
  ]
}