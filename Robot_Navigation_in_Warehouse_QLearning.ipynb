{
  "cells": [
    {
      "cell_type": "markdown",
      "metadata": {
        "id": "view-in-github",
        "colab_type": "text"
      },
      "source": [
        "<a href=\"https://colab.research.google.com/github/icampuzanov/SIS420-2_2023/blob/main/Robot_Navigation_in_Warehouse_QLearning.ipynb\" target=\"_parent\"><img src=\"https://colab.research.google.com/assets/colab-badge.svg\" alt=\"Open In Colab\"/></a>"
      ]
    },
    {
      "cell_type": "code",
      "source": [
        "#SEGUNDO PARCIAL\n",
        "\n",
        "#IGNACIO CAMPUZANO VILLARROEL\n",
        "#ING. DE SISTEMAS\n",
        "\n",
        "#CODIGO SUBIDO A GITHUB | https://github.com/icampuzanov/SIS420-2_2023\n"
      ],
      "metadata": {
        "id": "OHNygz16D5Ul"
      },
      "id": "OHNygz16D5Ul",
      "execution_count": 20,
      "outputs": []
    },
    {
      "cell_type": "code",
      "execution_count": 21,
      "id": "2095714a",
      "metadata": {
        "id": "2095714a"
      },
      "outputs": [],
      "source": [
        "# import librairies\n",
        "import numpy as np\n",
        "\n",
        "# Setting the parameters gamma and alpha for the Q-Learning algorithm\n",
        "gamma = 0.75\n",
        "alpha = 0.9\n",
        "\n",
        "# DEFINING THE ENVIRONMENT\n",
        "# Simple warehouse with locations:\n",
        "######################\n",
        "# A    B     C  #  D #\n",
        "#####                #\n",
        "# E #  F  #  G     H #\n",
        "#   #     #####      #\n",
        "# I    J     K     L #\n",
        "######################\n",
        "\n",
        "# Defining the states\n",
        "location_to_state = {'A': 0, 'B': 1, 'C': 2, 'D': 3, 'E': 4, 'F': 5,\n",
        "                     'G': 6, 'H': 7, 'I': 8, 'J': 9, 'K': 10, 'L': 11}\n",
        "\n",
        "# Defining the actions (moving to any location)\n",
        "actions = [0,1,2,3,4,5,6,7,8,9,10,11]\n",
        "\n",
        "# Defining the rewards (rows = each state, columns = each action leading to a new state, 1 if possible to go to a new state, 0 if not)\n",
        "R = np.array([[0,1,0,0,0,0,0,0,0,0,0,0],    # from A we can only go to B\n",
        "              [1,0,1,0,0,1,0,0,0,0,0,0],    # from B we can go to A, C, F\n",
        "              [0,1,0,0,0,0,1,0,0,0,0,0],\n",
        "              [0,0,0,0,0,0,0,1,0,0,0,0],\n",
        "              [0,0,0,0,0,0,0,0,1,0,0,0],\n",
        "              [0,1,0,0,0,0,0,0,0,1,0,0],\n",
        "              [0,0,1,0,0,0,1,1,0,0,0,0],\n",
        "              [0,0,0,1,0,0,1,0,0,0,0,1],\n",
        "              [0,0,0,0,1,0,0,0,0,1,0,0],\n",
        "              [0,0,0,0,0,1,0,0,1,0,1,0],\n",
        "              [0,0,0,0,0,0,0,0,0,1,0,1],\n",
        "              [0,0,0,0,0,0,0,1,0,0,1,0]])"
      ]
    },
    {
      "cell_type": "code",
      "execution_count": 22,
      "id": "0507474a",
      "metadata": {
        "id": "0507474a"
      },
      "outputs": [],
      "source": [
        "# BUILDING THE AI SOLUTION WITH Q-LEARNING\n",
        "\n",
        "# Maping from the states to the locations\n",
        "state_to_location = {state: location for location, state in location_to_state.items()}"
      ]
    },
    {
      "cell_type": "code",
      "execution_count": 23,
      "id": "9afddc84",
      "metadata": {
        "id": "9afddc84"
      },
      "outputs": [],
      "source": [
        "# Implement Q-Learning process\n",
        "def calculate_Q_values(R):\n",
        "    # Initialize Q-Values to zeros\n",
        "    Q = np.array(np.zeros((R.shape[0], R.shape[1])))\n",
        "    # Calculate Q_values\n",
        "    for i in range(1000):\n",
        "        current_state = np.random.randint(0, R.shape[1])  # randomly select an action\n",
        "        playable_actions = []\n",
        "        for action in range(R.shape[1]):\n",
        "            if R[current_state, action] > 0:\n",
        "                playable_actions.append(action)\n",
        "        next_state = np.random.choice(playable_actions)     # play a random action from possible ones\n",
        "        # compute Temporal Difference\n",
        "        TD = R[current_state, next_state] + gamma * Q[next_state, np.argmax(Q[next_state,:])] \\\n",
        "         - Q[current_state, next_state]        # played action = next_state in this model\n",
        "        # Update Q- value\n",
        "        Q[current_state, next_state] += alpha * TD\n",
        "    return Q"
      ]
    },
    {
      "cell_type": "code",
      "execution_count": 24,
      "id": "c0d9fd0d",
      "metadata": {
        "id": "c0d9fd0d"
      },
      "outputs": [],
      "source": [
        "# Calculate route from starting_location to end_location\n",
        "def route (starting_location, ending_location):\n",
        "    # Assign a big reward to the target location\n",
        "    R_new = np.copy(R)\n",
        "    ending_state = location_to_state[ending_location]\n",
        "    R_new[ending_state,ending_state] = 1000\n",
        "    Q = calculate_Q_values(R_new)\n",
        "    #print(Q.astype(int))\n",
        "\n",
        "    # initialize route\n",
        "    route=[starting_location]\n",
        "    next_location = starting_location\n",
        "\n",
        "    # Calculate optimal route\n",
        "    while (next_location != ending_location) :\n",
        "        starting_state = location_to_state[starting_location]  # convert location to state index\n",
        "        next_state = np.argmax(Q[starting_state,:])\n",
        "        next_location = state_to_location[next_state]          # convert state index to location\n",
        "        route.append(next_location)                            # append location to route\n",
        "        starting_location = next_location\n",
        "    return route"
      ]
    },
    {
      "cell_type": "code",
      "execution_count": 25,
      "id": "aa6f8f67",
      "metadata": {
        "id": "aa6f8f67",
        "outputId": "a12dc0eb-94f6-4618-ccb1-618ed71f62a1",
        "colab": {
          "base_uri": "https://localhost:8080/"
        }
      },
      "outputs": [
        {
          "output_type": "stream",
          "name": "stdout",
          "text": [
            "Route From -> To\n"
          ]
        },
        {
          "output_type": "execute_result",
          "data": {
            "text/plain": [
              "['E', 'I', 'J', 'K', 'L', 'H', 'D']"
            ]
          },
          "metadata": {},
          "execution_count": 25
        }
      ],
      "source": [
        "print('Route From -> To')\n",
        "route('E', 'D')"
      ]
    },
    {
      "cell_type": "code",
      "execution_count": 26,
      "id": "e248429f",
      "metadata": {
        "id": "e248429f"
      },
      "outputs": [],
      "source": [
        "# Function to handle intermediary location before ending_location (approach 1)\n",
        "def two_leg_route(starting_location, intermediate_location, ending_location):\n",
        "    return route(starting_location, intermediate_location)[:-1] + route(intermediate_location, ending_location)"
      ]
    },
    {
      "cell_type": "code",
      "execution_count": 27,
      "id": "e12fc9b5",
      "metadata": {
        "id": "e12fc9b5",
        "outputId": "574071d6-3921-452e-e705-401b222da98c",
        "colab": {
          "base_uri": "https://localhost:8080/"
        }
      },
      "outputs": [
        {
          "output_type": "stream",
          "name": "stdout",
          "text": [
            "Route From -> by -> To\n",
            "['E', 'I', 'J', 'F', 'B', 'C', 'G', 'H', 'D']\n"
          ]
        }
      ],
      "source": [
        "print('Route From -> by -> To')\n",
        "print(two_leg_route('E', 'B', 'D'))"
      ]
    },
    {
      "cell_type": "code",
      "source": [
        "def three_leg_route(starting_location, intermediate_location1, intermediate_location2, ending_location):\n",
        "    return (\n",
        "        route(starting_location, intermediate_location1)[:-1] +\n",
        "        route(intermediate_location1, intermediate_location2)[:-1] +\n",
        "        route(intermediate_location2, ending_location)\n",
        "    )\n"
      ],
      "metadata": {
        "id": "sMs3gQWDqGjU"
      },
      "id": "sMs3gQWDqGjU",
      "execution_count": 28,
      "outputs": []
    },
    {
      "cell_type": "code",
      "source": [
        "print('Route From -> by -> by -> To')\n",
        "print(three_leg_route('E', 'B', 'G', 'D'))\n"
      ],
      "metadata": {
        "colab": {
          "base_uri": "https://localhost:8080/"
        },
        "id": "ttl7DNv0qIRV",
        "outputId": "fef3e9fd-b1bd-49a5-efb9-615cf906007b"
      },
      "id": "ttl7DNv0qIRV",
      "execution_count": 29,
      "outputs": [
        {
          "output_type": "stream",
          "name": "stdout",
          "text": [
            "Route From -> by -> by -> To\n",
            "['E', 'I', 'J', 'F', 'B', 'C', 'G', 'H', 'D']\n"
          ]
        }
      ]
    }
  ],
  "metadata": {
    "kernelspec": {
      "display_name": "Python 3",
      "language": "python",
      "name": "python3"
    },
    "language_info": {
      "codemirror_mode": {
        "name": "ipython",
        "version": 3
      },
      "file_extension": ".py",
      "mimetype": "text/x-python",
      "name": "python",
      "nbconvert_exporter": "python",
      "pygments_lexer": "ipython3",
      "version": "3.8.11"
    },
    "colab": {
      "provenance": [],
      "include_colab_link": true
    }
  },
  "nbformat": 4,
  "nbformat_minor": 5
}