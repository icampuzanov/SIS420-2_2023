{
  "cells": [
    {
      "cell_type": "markdown",
      "metadata": {
        "id": "view-in-github",
        "colab_type": "text"
      },
      "source": [
        "<a href=\"https://colab.research.google.com/github/icampuzanov/SIS420-2_2023/blob/main/Primer_Parcial.ipynb\" target=\"_parent\"><img src=\"https://colab.research.google.com/assets/colab-badge.svg\" alt=\"Open In Colab\"/></a>"
      ]
    },
    {
      "cell_type": "code",
      "execution_count": 1,
      "metadata": {
        "id": "3Vpn2gsNlM6u"
      },
      "outputs": [],
      "source": [
        "#Importar librerias\n",
        "import numpy as np\n",
        "from matplotlib import pyplot\n",
        "import pandas as pd\n",
        "from sklearn.model_selection import train_test_split\n",
        "import random as r"
      ]
    },
    {
      "cell_type": "code",
      "execution_count": 2,
      "metadata": {
        "colab": {
          "base_uri": "https://localhost:8080/"
        },
        "id": "eOiQIf9wlM6w",
        "outputId": "1baaeeda-3d92-4c03-c953-6c3dc42ffc97"
      },
      "outputs": [
        {
          "output_type": "stream",
          "name": "stdout",
          "text": [
            "<class 'pandas.core.frame.DataFrame'>\n",
            "RangeIndex: 3333 entries, 0 to 3332\n",
            "Data columns (total 11 columns):\n",
            " #   Column           Non-Null Count  Dtype  \n",
            "---  ------           --------------  -----  \n",
            " 0   Churn            3333 non-null   int64  \n",
            " 1   AccountWeeks     3333 non-null   int64  \n",
            " 2   ContractRenewal  3333 non-null   int64  \n",
            " 3   DataPlan         3333 non-null   int64  \n",
            " 4   DataUsage        3333 non-null   float64\n",
            " 5   CustServCalls    3333 non-null   int64  \n",
            " 6   DayMins          3333 non-null   float64\n",
            " 7   DayCalls         3333 non-null   int64  \n",
            " 8   MonthlyCharge    3333 non-null   float64\n",
            " 9   OverageFee       3333 non-null   float64\n",
            " 10  RoamMins         3333 non-null   float64\n",
            "dtypes: float64(5), int64(6)\n",
            "memory usage: 286.6 KB\n"
          ]
        }
      ],
      "source": [
        "#Cargar dataset\n",
        "data = pd.read_csv('telecom_churn.csv')\n",
        "data.info()"
      ]
    },
    {
      "cell_type": "code",
      "execution_count": 3,
      "metadata": {
        "colab": {
          "base_uri": "https://localhost:8080/"
        },
        "id": "n-vdngR4lM6x",
        "outputId": "05165e85-fce0-4114-d7bd-1c652c5c54ec"
      },
      "outputs": [
        {
          "output_type": "stream",
          "name": "stdout",
          "text": [
            "[[128.     1.     1.   ...  89.     9.87  10.  ]\n",
            " [107.     1.     1.   ...  82.     9.78  13.7 ]\n",
            " [137.     1.     0.   ...  52.     6.06  12.2 ]\n",
            " ...\n",
            " [ 28.     1.     0.   ...  56.    14.44  14.1 ]\n",
            " [184.     0.     0.   ...  50.     7.98   5.  ]\n",
            " [ 74.     1.     1.   ... 100.    13.3   13.7 ]]\n"
          ]
        }
      ],
      "source": [
        "#Separar valores de x y y (Columna y: Churn)\n",
        "x = data.iloc[:, 1:11]\n",
        "y = data.iloc[:, 0]\n",
        "\n",
        "#Convertir a numpy\n",
        "x = x.to_numpy()\n",
        "y = y.to_numpy()\n",
        "print(x)"
      ]
    },
    {
      "cell_type": "code",
      "execution_count": 4,
      "metadata": {
        "colab": {
          "base_uri": "https://localhost:8080/"
        },
        "id": "OYotib61lM6y",
        "outputId": "ac320a6b-e887-4590-eb7c-95d392d90e3e"
      },
      "outputs": [
        {
          "output_type": "execute_result",
          "data": {
            "text/plain": [
              "((2666, 10), (667, 10))"
            ]
          },
          "metadata": {},
          "execution_count": 4
        }
      ],
      "source": [
        "#Generar set de entrenamiento (80%) y prueba (20%)\n",
        "x_train, x_test, y_train, y_test = train_test_split(x, y, test_size=0.2)\n",
        "x_train.shape, x_test.shape"
      ]
    },
    {
      "cell_type": "code",
      "execution_count": 5,
      "metadata": {
        "id": "2vMZ5TtilM6y"
      },
      "outputs": [],
      "source": [
        "#Función para normalizar valores de x\n",
        "def featureNormalize(X):\n",
        "    mu = np.mean(X, axis = 0)\n",
        "    sigma = np.std(X, axis = 0)\n",
        "    X_norm = (X - mu) / sigma\n",
        "    return X_norm, mu, sigma"
      ]
    },
    {
      "cell_type": "code",
      "execution_count": 6,
      "metadata": {
        "colab": {
          "base_uri": "https://localhost:8080/"
        },
        "id": "YGUiLuUnlM6y",
        "outputId": "7777867a-d6a3-4278-cc1a-c716e8902212"
      },
      "outputs": [
        {
          "output_type": "stream",
          "name": "stdout",
          "text": [
            "[[-0.53653983  0.32096771 -0.61753312 ... -0.98466088 -0.22556232\n",
            "   0.56515672]\n",
            " [-0.21178045 -3.11557817  1.61934635 ...  1.76858332 -0.06386798\n",
            "  -0.99199559]\n",
            " [ 0.33781235  0.32096771 -0.61753312 ... -0.49843674 -0.51345712\n",
            "  -3.70795892]\n",
            " ...\n",
            " [-0.6364658   0.32096771  1.61934635 ...  1.88406155 -0.60021994\n",
            "   0.34787965]\n",
            " [ 0.88740516  0.32096771  1.61934635 ...  0.76574603 -0.48585077\n",
            "  -0.52122861]\n",
            " [-0.98620667  0.32096771 -0.61753312 ... -2.13944321 -0.98276509\n",
            "  -0.15910017]]\n"
          ]
        }
      ],
      "source": [
        "#Normalizar valores de x\n",
        "x, mu, sigma = featureNormalize(x_train)\n",
        "print(x)"
      ]
    },
    {
      "cell_type": "code",
      "execution_count": 7,
      "metadata": {
        "id": "rqtqZ2W5lM6z"
      },
      "outputs": [],
      "source": [
        "#Función de activación sigmoid\n",
        "def sigmoid(z):\n",
        "    g = 1 / (1 + np.exp(-z))\n",
        "    return g"
      ]
    },
    {
      "cell_type": "code",
      "execution_count": 8,
      "metadata": {
        "colab": {
          "base_uri": "https://localhost:8080/"
        },
        "id": "ioKJDjsBlM6z",
        "outputId": "91b8fe23-8427-4734-f134-3cd813b0ac78"
      },
      "outputs": [
        {
          "output_type": "stream",
          "name": "stdout",
          "text": [
            "[[ 1.         -0.53653983  0.32096771 ... -0.98466088 -0.22556232\n",
            "   0.56515672]\n",
            " [ 1.         -0.21178045 -3.11557817 ...  1.76858332 -0.06386798\n",
            "  -0.99199559]\n",
            " [ 1.          0.33781235  0.32096771 ... -0.49843674 -0.51345712\n",
            "  -3.70795892]\n",
            " ...\n",
            " [ 1.         -0.6364658   0.32096771 ...  1.88406155 -0.60021994\n",
            "   0.34787965]\n",
            " [ 1.          0.88740516  0.32096771 ...  0.76574603 -0.48585077\n",
            "  -0.52122861]\n",
            " [ 1.         -0.98620667  0.32096771 ... -2.13944321 -0.98276509\n",
            "  -0.15910017]]\n"
          ]
        }
      ],
      "source": [
        "#Agregar columna de 1s\n",
        "m, n = x.shape\n",
        "x = np.concatenate([np.ones((m, 1)), x], axis=1)\n",
        "print(x)"
      ]
    },
    {
      "cell_type": "code",
      "execution_count": 9,
      "metadata": {
        "id": "qFjCKVbKlM60"
      },
      "outputs": [],
      "source": [
        "#Función de costo\n",
        "def calcularCosto(theta, X, y):\n",
        "    h = sigmoid(X.dot(theta.T))\n",
        "    J = (1 / m) * np.sum(-y.dot(np.log(h)) - (1 - y).dot(np.log(1 - h)))\n",
        "    return J"
      ]
    },
    {
      "cell_type": "code",
      "execution_count": 10,
      "metadata": {
        "id": "S0VzhCi4lM60"
      },
      "outputs": [],
      "source": [
        "#Función de descenso por el gradiente\n",
        "def descensoGradiente(theta, X, y, alpha, num_iters):\n",
        "    m = y.shape[0]\n",
        "    theta = theta.copy()\n",
        "    J_history = []\n",
        "    for i in range(num_iters):\n",
        "        h = sigmoid(X.dot(theta.T))\n",
        "        theta = theta - (alpha / m) * (h - y).dot(X)\n",
        "        J_history.append(calcularCosto(theta, X, y))\n",
        "    return theta, J_history"
      ]
    },
    {
      "cell_type": "code",
      "execution_count": 11,
      "metadata": {
        "id": "Qd3-NSIalM60"
      },
      "outputs": [],
      "source": [
        "#Funcion para generar predicciones\n",
        "def predict(theta, X):\n",
        "    p = np.round(sigmoid(X.dot(theta.T)))\n",
        "    return p"
      ]
    },
    {
      "cell_type": "code",
      "execution_count": 12,
      "metadata": {
        "id": "y2VXJ_aAlM60"
      },
      "outputs": [],
      "source": [
        "#Generar pesos iniciales\n",
        "theta = np.zeros(10)"
      ]
    },
    {
      "cell_type": "code",
      "execution_count": 13,
      "metadata": {
        "colab": {
          "base_uri": "https://localhost:8080/",
          "height": 466
        },
        "id": "IGd5nPrilM61",
        "outputId": "c2c2bc45-caa0-44de-a2e3-e93acb36efa9"
      },
      "outputs": [
        {
          "output_type": "execute_result",
          "data": {
            "text/plain": [
              "Text(0, 0.5, 'Costo')"
            ]
          },
          "metadata": {},
          "execution_count": 13
        },
        {
          "output_type": "display_data",
          "data": {
            "text/plain": [
              "<Figure size 640x480 with 1 Axes>"
            ],
            "image/png": "[encoded data removed]"
          },
          "metadata": {}
        }
      ],
      "source": [
        "#Learning rate y numero de interaciones\n",
        "alpha = 0.000001\n",
        "num_iters = 1000\n",
        "\n",
        "#Entrenamiento del modelo con set de entrenamiento\n",
        "theta, J_history = descensoGradiente(theta, x_train, y_train, alpha, num_iters)\n",
        "\n",
        "#Graficación de los resultados\n",
        "pyplot.plot(np.arange(len(J_history)), J_history, lw=2)\n",
        "pyplot.xlabel('Numero de iteraciones')\n",
        "pyplot.ylabel('Costo')"
      ]
    },
    {
      "cell_type": "code",
      "execution_count": 14,
      "metadata": {
        "colab": {
          "base_uri": "https://localhost:8080/"
        },
        "id": "Ff2CIUo2lM61",
        "outputId": "51c49f94-016f-4c34-d219-b003af993cd5"
      },
      "outputs": [
        {
          "output_type": "stream",
          "name": "stdout",
          "text": [
            "Precisión de entrenamiento: 85.71 %\n",
            "Precisión de prueba: 84.71 %\n"
          ]
        }
      ],
      "source": [
        "#Calculo de la precision de los pesos\n",
        "p_train = predict(theta, x_train)\n",
        "print('Precisión de entrenamiento: {:.2f} %'.format(np.mean(p_train == y_train) * 100))\n",
        "p_test = predict(theta, x_test)\n",
        "print('Precisión de prueba: {:.2f} %'.format(np.mean(p_test == y_test) * 100))"
      ]
    },
    {
      "cell_type": "code",
      "execution_count": 15,
      "metadata": {
        "colab": {
          "base_uri": "https://localhost:8080/"
        },
        "id": "R2FutvJ3lM61",
        "outputId": "dcc45b1e-65ba-4248-c9c5-b5cfac17bb50"
      },
      "outputs": [
        {
          "output_type": "stream",
          "name": "stdout",
          "text": [
            "Valor real: 0\n",
            "Valor predicho: 1.0\n"
          ]
        }
      ],
      "source": [
        "#Prediccion de valores de prueba individuales\n",
        "i = r.randint(0, len(x_test))\n",
        "test_vals = x_test[i]\n",
        "test_label = y_test[i]\n",
        "test_vals = (test_vals - mu) / sigma\n",
        "pred = predict(theta, test_vals)\n",
        "print(f\"Valor real: {test_label}\")\n",
        "print(f\"Valor predicho: {pred}\")"
      ]
    }
  ],
  "metadata": {
    "kernelspec": {
      "display_name": "Python 3",
      "language": "python",
      "name": "python3"
    },
    "language_info": {
      "codemirror_mode": {
        "name": "ipython",
        "version": 3
      },
      "file_extension": ".py",
      "mimetype": "text/x-python",
      "name": "python",
      "nbconvert_exporter": "python",
      "pygments_lexer": "ipython3",
      "version": "3.11.2"
    },
    "orig_nbformat": 4,
    "colab": {
      "provenance": [],
      "include_colab_link": true
    }
  },
  "nbformat": 4,
  "nbformat_minor": 0
}