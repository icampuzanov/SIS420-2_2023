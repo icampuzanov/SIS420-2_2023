{
  "cells": [
    {
      "cell_type": "markdown",
      "metadata": {
        "id": "view-in-github",
        "colab_type": "text"
      },
      "source": [
        "<a href=\"https://colab.research.google.com/github/icampuzanov/SIS420-2_2023/blob/main/Primer_Parcial.ipynb\" target=\"_parent\"><img src=\"https://colab.research.google.com/assets/colab-badge.svg\" alt=\"Open In Colab\"/></a>"
      ]
    },
    {
      "cell_type": "code",
      "execution_count": 1,
      "metadata": {
        "id": "bwfbgJ8ncihv"
      },
      "outputs": [],
      "source": [
        "import numpy as np\n",
        "from matplotlib import pyplot\n",
        "import pandas as pd\n",
        "from sklearn.preprocessing import LabelEncoder\n",
        "from sklearn.model_selection import train_test_split"
      ]
    },
    {
      "cell_type": "code",
      "execution_count": 2,
      "metadata": {
        "colab": {
          "base_uri": "https://localhost:8080/"
        },
        "id": "Pdzobfd7cih2",
        "outputId": "e965c176-5efd-498a-bcbe-72ed5b51cb94"
      },
      "outputs": [
        {
          "output_type": "stream",
          "name": "stdout",
          "text": [
            "<class 'pandas.core.frame.DataFrame'>\n",
            "RangeIndex: 3333 entries, 0 to 3332\n",
            "Data columns (total 11 columns):\n",
            " #   Column           Non-Null Count  Dtype  \n",
            "---  ------           --------------  -----  \n",
            " 0   Churn            3333 non-null   int64  \n",
            " 1   AccountWeeks     3333 non-null   int64  \n",
            " 2   ContractRenewal  3333 non-null   int64  \n",
            " 3   DataPlan         3333 non-null   int64  \n",
            " 4   DataUsage        3333 non-null   float64\n",
            " 5   CustServCalls    3333 non-null   int64  \n",
            " 6   DayMins          3333 non-null   float64\n",
            " 7   DayCalls         3333 non-null   int64  \n",
            " 8   MonthlyCharge    3333 non-null   float64\n",
            " 9   OverageFee       3333 non-null   float64\n",
            " 10  RoamMins         3333 non-null   float64\n",
            "dtypes: float64(5), int64(6)\n",
            "memory usage: 286.6 KB\n"
          ]
        }
      ],
      "source": [
        "data = pd.read_csv('telecom_churn.csv')\n",
        "data.info()"
      ]
    },
    {
      "cell_type": "code",
      "execution_count": 3,
      "metadata": {
        "colab": {
          "base_uri": "https://localhost:8080/"
        },
        "id": "MRalfcJzcih4",
        "outputId": "d9dd24f3-bbe6-42ab-e18b-892182230fd6"
      },
      "outputs": [
        {
          "output_type": "stream",
          "name": "stdout",
          "text": [
            "[[128.     1.     1.   ... 110.    89.     9.87]\n",
            " [107.     1.     1.   ... 123.    82.     9.78]\n",
            " [137.     1.     0.   ... 114.    52.     6.06]\n",
            " ...\n",
            " [ 28.     1.     0.   ... 109.    56.    14.44]\n",
            " [184.     0.     0.   ... 105.    50.     7.98]\n",
            " [ 74.     1.     1.   ... 113.   100.    13.3 ]]\n"
          ]
        }
      ],
      "source": [
        "x = data.iloc[:, 1:11]\n",
        "y = data.iloc[:, 0]\n",
        "x = x.to_numpy()\n",
        "y = y.to_numpy()\n",
        "print(x)"
      ]
    },
    {
      "cell_type": "code",
      "execution_count": 4,
      "metadata": {
        "colab": {
          "base_uri": "https://localhost:8080/"
        },
        "id": "EE3tuh1ycih6",
        "outputId": "e916f7b1-060f-4c02-c903-60e050f4c001"
      },
      "outputs": [
        {
          "output_type": "execute_result",
          "data": {
            "text/plain": [
              "((2666, 9), (667, 9))"
            ]
          },
          "metadata": {},
          "execution_count": 4
        }
      ],
      "source": [
        "x_train, x_test, y_train, y_test = train_test_split(x, y, test_size=0.2)\n",
        "x_train.shape, x_test.shape"
      ]
    },
    {
      "cell_type": "code",
      "execution_count": 5,
      "metadata": {
        "id": "PE947rficih7"
      },
      "outputs": [],
      "source": [
        "def featureNormalize(X):\n",
        "    mu = np.mean(X, axis = 0)\n",
        "    sigma = np.std(X, axis = 0)\n",
        "    X_norm = (X - mu) / sigma\n",
        "    return X_norm, mu, sigma"
      ]
    },
    {
      "cell_type": "code",
      "execution_count": 6,
      "metadata": {
        "colab": {
          "base_uri": "https://localhost:8080/"
        },
        "id": "ygSKtZwvcih7",
        "outputId": "006a5350-6ec4-48e0-f1c6-2e7d1a0c22b6"
      },
      "outputs": [
        {
          "output_type": "stream",
          "name": "stdout",
          "text": [
            "[[-6.97926631e-01  3.30128801e-01 -6.08846522e-01 ...  1.77436072e+00\n",
            "  -9.83935044e-01  1.58077922e+00]\n",
            " [-3.24712318e-01  3.30128801e-01 -6.08846522e-01 ...  7.78099889e-01\n",
            "  -9.47172702e-01 -8.72499770e-01]\n",
            " [-1.14578381e+00 -3.02912075e+00 -6.08846522e-01 ...  7.28286848e-01\n",
            "  -2.48688193e-01 -6.94439198e-01]\n",
            " ...\n",
            " [ 4.96359171e-01  3.30128801e-01 -6.08846522e-01 ...  1.27623031e+00\n",
            "  -7.32725703e-01  1.97548238e-03]\n",
            " [ 4.96359171e-01  3.30128801e-01 -6.08846522e-01 ...  2.07323897e+00\n",
            "  -9.22664473e-01 -1.52143163e+00]\n",
            " [-1.09602190e+00  3.30128801e-01 -6.08846522e-01 ... -1.31404786e+00\n",
            "   6.09099801e-01  4.84717477e-01]]\n"
          ]
        }
      ],
      "source": [
        "x, mu, sigma = featureNormalize(x_train)\n",
        "print(x)"
      ]
    },
    {
      "cell_type": "code",
      "execution_count": 7,
      "metadata": {
        "id": "HgmxgcCucih8"
      },
      "outputs": [],
      "source": [
        "def sigmoid(z):\n",
        "    g = 1 / (1 + np.exp(-z))\n",
        "    return g"
      ]
    },
    {
      "cell_type": "code",
      "execution_count": 8,
      "metadata": {
        "colab": {
          "base_uri": "https://localhost:8080/"
        },
        "id": "emGW5TS9cih9",
        "outputId": "e0975bdf-9aac-461b-d0f9-5410f6bf7b58"
      },
      "outputs": [
        {
          "output_type": "stream",
          "name": "stdout",
          "text": [
            "[[ 1.00000000e+00 -6.97926631e-01  3.30128801e-01 ...  1.77436072e+00\n",
            "  -9.83935044e-01  1.58077922e+00]\n",
            " [ 1.00000000e+00 -3.24712318e-01  3.30128801e-01 ...  7.78099889e-01\n",
            "  -9.47172702e-01 -8.72499770e-01]\n",
            " [ 1.00000000e+00 -1.14578381e+00 -3.02912075e+00 ...  7.28286848e-01\n",
            "  -2.48688193e-01 -6.94439198e-01]\n",
            " ...\n",
            " [ 1.00000000e+00  4.96359171e-01  3.30128801e-01 ...  1.27623031e+00\n",
            "  -7.32725703e-01  1.97548238e-03]\n",
            " [ 1.00000000e+00  4.96359171e-01  3.30128801e-01 ...  2.07323897e+00\n",
            "  -9.22664473e-01 -1.52143163e+00]\n",
            " [ 1.00000000e+00 -1.09602190e+00  3.30128801e-01 ... -1.31404786e+00\n",
            "   6.09099801e-01  4.84717477e-01]]\n"
          ]
        }
      ],
      "source": [
        "m, n = x.shape\n",
        "x = np.concatenate([np.ones((m, 1)), x], axis=1)\n",
        "print(x)"
      ]
    },
    {
      "cell_type": "code",
      "execution_count": 9,
      "metadata": {
        "id": "Q7BJX7T_cih_"
      },
      "outputs": [],
      "source": [
        "def calcularCosto(theta, X, y):\n",
        "    h = sigmoid(X.dot(theta.T))\n",
        "    J = (1 / m) * np.sum(-y.dot(np.log(h)) - (1 - y).dot(np.log(1 - h)))\n",
        "    return J"
      ]
    },
    {
      "cell_type": "code",
      "execution_count": 10,
      "metadata": {
        "id": "M7OgcnHJciiA"
      },
      "outputs": [],
      "source": [
        "def descensoGradiente(theta, X, y, alpha, num_iters):\n",
        "    m = y.shape[0]\n",
        "    theta = theta.copy()\n",
        "    J_history = []\n",
        "    for i in range(num_iters):\n",
        "        h = sigmoid(X.dot(theta.T))\n",
        "        theta = theta - (alpha / m) * (h - y).dot(X)\n",
        "        J_history.append(calcularCosto(theta, X, y))\n",
        "    return theta, J_history"
      ]
    },
    {
      "cell_type": "code",
      "execution_count": 11,
      "metadata": {
        "id": "3EWMhDr_ciiB"
      },
      "outputs": [],
      "source": [
        "theta = np.zeros(10)"
      ]
    },
    {
      "cell_type": "code",
      "execution_count": 15,
      "metadata": {
        "colab": {
          "base_uri": "https://localhost:8080/",
          "height": 518
        },
        "id": "kifcu5UxciiB",
        "outputId": "95bb8cdd-0f98-4b78-bbb3-6de90c51439b"
      },
      "outputs": [
        {
          "output_type": "stream",
          "name": "stdout",
          "text": [
            "theta calculado por el descenso por el gradiente: [-0.00384862 -0.00228085 -0.00062803 -0.00147579  0.00481965  0.00872568\n",
            " -0.02015551 -0.01777363 -0.00240386]\n",
            "Valor real: 0\n",
            "Valor predicho: 1\n"
          ]
        },
        {
          "output_type": "display_data",
          "data": {
            "text/plain": [
              "<Figure size 640x480 with 1 Axes>"
            ],
            "image/png": "[encoded data removed]"
          },
          "metadata": {}
        }
      ],
      "source": [
        "alpha = 0.00002\n",
        "num_iters = 1000\n",
        "\n",
        "theta, J_history = descensoGradiente(theta, x_train, y_train, alpha, num_iters)\n",
        "# Muestra los resultados del descenso por el gradiente\n",
        "print('theta calculado por el descenso por el gradiente: {:s}'.format(str(theta)))\n",
        "\n",
        "pyplot.plot(np.arange(len(J_history)), J_history, lw=2)\n",
        "pyplot.xlabel('Numero de iteraciones')\n",
        "pyplot.ylabel('Costo')\n",
        "\n",
        "import random as r\n",
        "i = r.randint(0, len(x_test))\n",
        "test_vals = x_test[i]\n",
        "test_label = y_test[i]\n",
        "test_vals = (test_vals - mu) / sigma\n",
        "pred = round(sigmoid(np.dot(test_vals, theta)))\n",
        "\n",
        "\n",
        "print(f\"Valor real: {test_label}\")\n",
        "print(f\"Valor predicho: {pred}\")"
      ]
    },
    {
      "cell_type": "code",
      "execution_count": 13,
      "metadata": {
        "colab": {
          "base_uri": "https://localhost:8080/"
        },
        "id": "nukXCS6OciiC",
        "outputId": "14508d18-b2c2-4c20-f2db-c16ef29b5893"
      },
      "outputs": [
        {
          "output_type": "stream",
          "name": "stdout",
          "text": [
            "Valor real: 0\n",
            "Valor predicho: 1\n"
          ]
        }
      ],
      "source": [
        "import random as r\n",
        "i = r.randint(0, len(x_test))\n",
        "test_vals = x_test[i]\n",
        "test_label = y_test[i]\n",
        "test_vals = (test_vals - mu) / sigma\n",
        "pred = round(sigmoid(np.dot(test_vals, theta)))\n",
        "print(f\"Valor real: {test_label}\")\n",
        "print(f\"Valor predicho: {pred}\")"
      ]
    }
  ],
  "metadata": {
    "kernelspec": {
      "display_name": "Python 3",
      "language": "python",
      "name": "python3"
    },
    "language_info": {
      "codemirror_mode": {
        "name": "ipython",
        "version": 3
      },
      "file_extension": ".py",
      "mimetype": "text/x-python",
      "name": "python",
      "nbconvert_exporter": "python",
      "pygments_lexer": "ipython3",
      "version": "3.11.2"
    },
    "orig_nbformat": 4,
    "colab": {
      "provenance": [],
      "include_colab_link": true
    }
  },
  "nbformat": 4,
  "nbformat_minor": 0
}