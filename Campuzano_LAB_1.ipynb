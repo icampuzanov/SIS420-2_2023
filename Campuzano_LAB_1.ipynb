{
  "nbformat": 4,
  "nbformat_minor": 0,
  "metadata": {
    "colab": {
      "provenance": [],
      "include_colab_link": true
    },
    "kernelspec": {
      "name": "python3",
      "display_name": "Python 3"
    },
    "language_info": {
      "name": "python"
    }
  },
  "cells": [
    {
      "cell_type": "markdown",
      "metadata": {
        "id": "view-in-github",
        "colab_type": "text"
      },
      "source": [
        "<a href=\"https://colab.research.google.com/github/icampuzanov/SIS420-2_2023/blob/main/Campuzano_LAB_1.ipynb\" target=\"_parent\"><img src=\"https://colab.research.google.com/assets/colab-badge.svg\" alt=\"Open In Colab\"/></a>"
      ]
    },
    {
      "cell_type": "code",
      "execution_count": null,
      "metadata": {
        "id": "qUxgZvq33-ID"
      },
      "outputs": [],
      "source": [
        "# utilizado para manejos de directorios y rutas\n",
        "import os\n",
        "\n",
        "# Computacion vectorial y cientifica para python\n",
        "import numpy as np\n",
        "\n",
        "# Librerias para graficación (trazado de gráficos)\n",
        "from matplotlib import pyplot\n",
        "from mpl_toolkits.mplot3d import Axes3D  # Necesario para graficar superficies 3D\n",
        "\n",
        "# llama a matplotlib a embeber graficas dentro de los cuadernillos\n",
        "%matplotlib inline"
      ]
    },
    {
      "cell_type": "code",
      "source": [
        "import pandas as pd\n",
        "from sklearn.preprocessing import LabelEncoder\n",
        "from datetime import datetime"
      ],
      "metadata": {
        "id": "3zeLCpwjiQCT"
      },
      "execution_count": null,
      "outputs": []
    },
    {
      "cell_type": "code",
      "source": [
        "#Carga de dataset\n",
        "data = pd.read_csv('/content/Sport car price.csv')"
      ],
      "metadata": {
        "id": "V0ZXOA-6iUmV"
      },
      "execution_count": null,
      "outputs": []
    },
    {
      "cell_type": "code",
      "source": [
        "print(data)"
      ],
      "metadata": {
        "colab": {
          "base_uri": "https://localhost:8080/"
        },
        "id": "h325dVhXicrs",
        "outputId": "d84457a8-4d04-4bc1-bc97-97006259ed41"
      },
      "execution_count": null,
      "outputs": [
        {
          "output_type": "stream",
          "name": "stdout",
          "text": [
            "         Car Make Car Model  Year Engine Size (L) Horsepower Torque (lb-ft)  \\\n",
            "0         Porsche       911  2022               3        379            331   \n",
            "1     Lamborghini   Huracan  2021             5.2        630            443   \n",
            "2         Ferrari   488 GTB  2022             3.9        661            561   \n",
            "3            Audi        R8  2022             5.2        562            406   \n",
            "4         McLaren      720S  2021               4        710            568   \n",
            "...           ...       ...   ...             ...        ...            ...   \n",
            "1002   Koenigsegg     Jesko  2022               5       1280           1106   \n",
            "1003        Lotus     Evija  2021  Electric Motor       1972           1254   \n",
            "1004      McLaren     Senna  2021               4        789            590   \n",
            "1005       Pagani    Huayra  2021               6        764            738   \n",
            "1006        Rimac    Nevera  2021  Electric Motor       1888           1696   \n",
            "\n",
            "     0-60 MPH Time (seconds) Price (in USD)  \n",
            "0                          4        101,200  \n",
            "1                        2.8        274,390  \n",
            "2                          3        333,750  \n",
            "3                        3.2        142,700  \n",
            "4                        2.7        298,000  \n",
            "...                      ...            ...  \n",
            "1002                     2.5      3,000,000  \n",
            "1003                       2      2,000,000  \n",
            "1004                     2.7      1,000,000  \n",
            "1005                       3      2,600,000  \n",
            "1006                    1.85      2,400,000  \n",
            "\n",
            "[1007 rows x 8 columns]\n"
          ]
        }
      ]
    },
    {
      "cell_type": "code",
      "source": [
        "data.info()"
      ],
      "metadata": {
        "colab": {
          "base_uri": "https://localhost:8080/"
        },
        "id": "ZoYIJwRyifh-",
        "outputId": "54850f3f-73c1-4019-f51c-b1029bfc1923"
      },
      "execution_count": null,
      "outputs": [
        {
          "output_type": "stream",
          "name": "stdout",
          "text": [
            "<class 'pandas.core.frame.DataFrame'>\n",
            "RangeIndex: 1007 entries, 0 to 1006\n",
            "Data columns (total 8 columns):\n",
            " #   Column                   Non-Null Count  Dtype \n",
            "---  ------                   --------------  ----- \n",
            " 0   Car Make                 1007 non-null   object\n",
            " 1   Car Model                1007 non-null   object\n",
            " 2   Year                     1007 non-null   int64 \n",
            " 3   Engine Size (L)          997 non-null    object\n",
            " 4   Horsepower               1007 non-null   object\n",
            " 5   Torque (lb-ft)           1004 non-null   object\n",
            " 6   0-60 MPH Time (seconds)  1007 non-null   object\n",
            " 7   Price (in USD)           1007 non-null   object\n",
            "dtypes: int64(1), object(7)\n",
            "memory usage: 63.1+ KB\n"
          ]
        }
      ]
    },
    {
      "cell_type": "code",
      "source": [
        "columnas_eliminar = ['Engine Size (L)']\n",
        "simbolo = 'Electric Motor'\n",
        "\n",
        "for columna in columnas_eliminar:\n",
        "    data[columna] = data[columna].str.replace(simbolo, '7', regex=False)"
      ],
      "metadata": {
        "id": "HcW3ITuoi4aw"
      },
      "execution_count": null,
      "outputs": []
    },
    {
      "cell_type": "code",
      "source": [
        "print(data)"
      ],
      "metadata": {
        "colab": {
          "base_uri": "https://localhost:8080/"
        },
        "id": "CDcJv73OABpB",
        "outputId": "269108e2-49ee-4a66-a506-f3839ef541c9"
      },
      "execution_count": null,
      "outputs": [
        {
          "output_type": "stream",
          "name": "stdout",
          "text": [
            "         Car Make Car Model  Year Engine Size (L) Horsepower Torque (lb-ft)  \\\n",
            "0         Porsche       911  2022               3        379            331   \n",
            "1     Lamborghini   Huracan  2021             5.2        630            443   \n",
            "2         Ferrari   488 GTB  2022             3.9        661            561   \n",
            "3            Audi        R8  2022             5.2        562            406   \n",
            "4         McLaren      720S  2021               4        710            568   \n",
            "...           ...       ...   ...             ...        ...            ...   \n",
            "1002   Koenigsegg     Jesko  2022               5       1280           1106   \n",
            "1003        Lotus     Evija  2021               7       1972           1254   \n",
            "1004      McLaren     Senna  2021               4        789            590   \n",
            "1005       Pagani    Huayra  2021               6        764            738   \n",
            "1006        Rimac    Nevera  2021               7       1888           1696   \n",
            "\n",
            "     0-60 MPH Time (seconds) Price (in USD)  \n",
            "0                          4        101,200  \n",
            "1                        2.8        274,390  \n",
            "2                          3        333,750  \n",
            "3                        3.2        142,700  \n",
            "4                        2.7        298,000  \n",
            "...                      ...            ...  \n",
            "1002                     2.5      3,000,000  \n",
            "1003                       2      2,000,000  \n",
            "1004                     2.7      1,000,000  \n",
            "1005                       3      2,600,000  \n",
            "1006                    1.85      2,400,000  \n",
            "\n",
            "[1007 rows x 8 columns]\n"
          ]
        }
      ]
    },
    {
      "cell_type": "code",
      "source": [
        "data.info()"
      ],
      "metadata": {
        "colab": {
          "base_uri": "https://localhost:8080/"
        },
        "id": "MJR_ngQEAFSz",
        "outputId": "818db602-ab61-4c7f-f24a-74553f40e673"
      },
      "execution_count": null,
      "outputs": [
        {
          "output_type": "stream",
          "name": "stdout",
          "text": [
            "<class 'pandas.core.frame.DataFrame'>\n",
            "RangeIndex: 1007 entries, 0 to 1006\n",
            "Data columns (total 8 columns):\n",
            " #   Column                   Non-Null Count  Dtype \n",
            "---  ------                   --------------  ----- \n",
            " 0   Car Make                 1007 non-null   object\n",
            " 1   Car Model                1007 non-null   object\n",
            " 2   Year                     1007 non-null   int64 \n",
            " 3   Engine Size (L)          997 non-null    object\n",
            " 4   Horsepower               1007 non-null   object\n",
            " 5   Torque (lb-ft)           1004 non-null   object\n",
            " 6   0-60 MPH Time (seconds)  1007 non-null   object\n",
            " 7   Price (in USD)           1007 non-null   object\n",
            "dtypes: int64(1), object(7)\n",
            "memory usage: 63.1+ KB\n"
          ]
        }
      ]
    },
    {
      "cell_type": "code",
      "source": [
        "columnas_eliminar = ['Price (in USD)']\n",
        "simbolo = ','\n",
        "\n",
        "for columna in columnas_eliminar:\n",
        "    data[columna] = data[columna].str.replace(simbolo, '', regex=False)\n",
        "\n",
        "print(data)"
      ],
      "metadata": {
        "colab": {
          "base_uri": "https://localhost:8080/"
        },
        "id": "U8sB5Y_VvPLh",
        "outputId": "9b4c1e9c-74fb-4050-f008-ebcb9b45a031"
      },
      "execution_count": null,
      "outputs": [
        {
          "output_type": "stream",
          "name": "stdout",
          "text": [
            "         Car Make Car Model  Year Engine Size (L) Horsepower Torque (lb-ft)  \\\n",
            "0         Porsche       911  2022               3        379            331   \n",
            "1     Lamborghini   Huracan  2021             5.2        630            443   \n",
            "2         Ferrari   488 GTB  2022             3.9        661            561   \n",
            "3            Audi        R8  2022             5.2        562            406   \n",
            "4         McLaren      720S  2021               4        710            568   \n",
            "...           ...       ...   ...             ...        ...            ...   \n",
            "1002   Koenigsegg     Jesko  2022               5       1280           1106   \n",
            "1003        Lotus     Evija  2021               7       1972           1254   \n",
            "1004      McLaren     Senna  2021               4        789            590   \n",
            "1005       Pagani    Huayra  2021               6        764            738   \n",
            "1006        Rimac    Nevera  2021               7       1888           1696   \n",
            "\n",
            "     0-60 MPH Time (seconds) Price (in USD)  \n",
            "0                          4         101200  \n",
            "1                        2.8         274390  \n",
            "2                          3         333750  \n",
            "3                        3.2         142700  \n",
            "4                        2.7         298000  \n",
            "...                      ...            ...  \n",
            "1002                     2.5        3000000  \n",
            "1003                       2        2000000  \n",
            "1004                     2.7        1000000  \n",
            "1005                       3        2600000  \n",
            "1006                    1.85        2400000  \n",
            "\n",
            "[1007 rows x 8 columns]\n"
          ]
        }
      ]
    },
    {
      "cell_type": "code",
      "source": [
        "# Lista de columnas categóricas que deseas convertir\n",
        "columnas_categoricas = ['Engine Size (L)', 'Horsepower', 'Torque (lb-ft)', '0-60 MPH Time (seconds)', 'Price (in USD)']\n",
        "\n",
        "# Convertir las columnas categóricas a numéricas\n",
        "for columna in columnas_categoricas:\n",
        "    data[columna] = pd.to_numeric(data[columna], errors='coerce')\n",
        "\n",
        "# Ahora, las columnas que tenían valores categóricos se han convertido a numéricos en el DataFrame 'data'\n"
      ],
      "metadata": {
        "id": "iFCu2N4YuhfQ"
      },
      "execution_count": null,
      "outputs": []
    },
    {
      "cell_type": "code",
      "source": [
        "data.info()"
      ],
      "metadata": {
        "colab": {
          "base_uri": "https://localhost:8080/"
        },
        "id": "VpbiDOZmjHzw",
        "outputId": "81825a9a-c0e0-42ad-9814-e26d8ebb9c65"
      },
      "execution_count": null,
      "outputs": [
        {
          "output_type": "stream",
          "name": "stdout",
          "text": [
            "<class 'pandas.core.frame.DataFrame'>\n",
            "RangeIndex: 1007 entries, 0 to 1006\n",
            "Data columns (total 8 columns):\n",
            " #   Column                   Non-Null Count  Dtype  \n",
            "---  ------                   --------------  -----  \n",
            " 0   Car Make                 1007 non-null   object \n",
            " 1   Car Model                1007 non-null   object \n",
            " 2   Year                     1007 non-null   int64  \n",
            " 3   Engine Size (L)          951 non-null    float64\n",
            " 4   Horsepower               998 non-null    float64\n",
            " 5   Torque (lb-ft)           999 non-null    float64\n",
            " 6   0-60 MPH Time (seconds)  1006 non-null   float64\n",
            " 7   Price (in USD)           1007 non-null   int64  \n",
            "dtypes: float64(4), int64(2), object(2)\n",
            "memory usage: 63.1+ KB\n"
          ]
        }
      ]
    },
    {
      "cell_type": "code",
      "source": [
        "#variables categoricas\n",
        "columnas_categoricas = data.select_dtypes(include=['object']).columns\n",
        "# variables fechas\n",
        "# columnas_fechas = data.select_dtypes(include=['datetime64']).columns"
      ],
      "metadata": {
        "id": "sFmWfM7Mjn9Z"
      },
      "execution_count": null,
      "outputs": []
    },
    {
      "cell_type": "code",
      "source": [
        "#Procesamiento de frases o palabras\n",
        "for columna in columnas_categoricas:\n",
        "  le = LabelEncoder()\n",
        "  data[columna] = le.fit_transform(data[columna])"
      ],
      "metadata": {
        "id": "GcxRaOoqkOyD"
      },
      "execution_count": null,
      "outputs": []
    },
    {
      "cell_type": "code",
      "source": [
        "#Fechas a numeros\n",
        "#for columna in columnas_fechas:\n",
        "# data[columna] = pd.to_numeric(data[columna].map(datetime.timestamp))"
      ],
      "metadata": {
        "id": "hVuep7WXkQvA"
      },
      "execution_count": null,
      "outputs": []
    },
    {
      "cell_type": "code",
      "source": [
        "#resultado\n",
        "print(data)"
      ],
      "metadata": {
        "colab": {
          "base_uri": "https://localhost:8080/"
        },
        "id": "vHzN_Uj0kS96",
        "outputId": "c1dea3f7-823e-4558-c2bc-5685f0d71c28"
      },
      "execution_count": null,
      "outputs": [
        {
          "output_type": "stream",
          "name": "stdout",
          "text": [
            "      Car Make  Car Model  Year  Engine Size (L)  Horsepower  Torque (lb-ft)  \\\n",
            "0           28         18  2022              3.0       379.0           331.0   \n",
            "1           16         98  2021              5.2       630.0           443.0   \n",
            "2           11          5  2022              3.9       661.0           561.0   \n",
            "3            5        130  2022              5.2       562.0           406.0   \n",
            "4           21         15  2021              4.0       710.0           568.0   \n",
            "...        ...        ...   ...              ...         ...             ...   \n",
            "1002        15         99  2022              5.0      1280.0          1106.0   \n",
            "1003        18         76  2021              7.0      1972.0          1254.0   \n",
            "1004        21        157  2021              4.0       789.0           590.0   \n",
            "1005        25         95  2021              6.0       764.0           738.0   \n",
            "1006        29        122  2021              7.0      1888.0          1696.0   \n",
            "\n",
            "      0-60 MPH Time (seconds)  Price (in USD)  \n",
            "0                        4.00          101200  \n",
            "1                        2.80          274390  \n",
            "2                        3.00          333750  \n",
            "3                        3.20          142700  \n",
            "4                        2.70          298000  \n",
            "...                       ...             ...  \n",
            "1002                     2.50         3000000  \n",
            "1003                     2.00         2000000  \n",
            "1004                     2.70         1000000  \n",
            "1005                     3.00         2600000  \n",
            "1006                     1.85         2400000  \n",
            "\n",
            "[1007 rows x 8 columns]\n"
          ]
        }
      ]
    },
    {
      "cell_type": "code",
      "source": [
        "data.info()"
      ],
      "metadata": {
        "colab": {
          "base_uri": "https://localhost:8080/"
        },
        "id": "tJ9GFsACksGy",
        "outputId": "97cdba40-38a1-4418-def6-2273b95b9763"
      },
      "execution_count": null,
      "outputs": [
        {
          "output_type": "stream",
          "name": "stdout",
          "text": [
            "<class 'pandas.core.frame.DataFrame'>\n",
            "RangeIndex: 1007 entries, 0 to 1006\n",
            "Data columns (total 8 columns):\n",
            " #   Column                   Non-Null Count  Dtype  \n",
            "---  ------                   --------------  -----  \n",
            " 0   Car Make                 1007 non-null   int64  \n",
            " 1   Car Model                1007 non-null   int64  \n",
            " 2   Year                     1007 non-null   int64  \n",
            " 3   Engine Size (L)          951 non-null    float64\n",
            " 4   Horsepower               998 non-null    float64\n",
            " 5   Torque (lb-ft)           999 non-null    float64\n",
            " 6   0-60 MPH Time (seconds)  1006 non-null   float64\n",
            " 7   Price (in USD)           1007 non-null   int64  \n",
            "dtypes: float64(4), int64(4)\n",
            "memory usage: 63.1 KB\n"
          ]
        }
      ]
    },
    {
      "cell_type": "code",
      "source": [
        "#llenar datos vacios\n",
        "columnas_especificas = ['Engine Size (L)', 'Horsepower', 'Torque (lb-ft)', '0-60 MPH Time (seconds)']\n",
        "media_columnas = data[columnas_especificas].mean()\n",
        "data[columnas_especificas] = data[columnas_especificas].fillna(media_columnas)"
      ],
      "metadata": {
        "id": "aL01HjE1tMNP"
      },
      "execution_count": null,
      "outputs": []
    },
    {
      "cell_type": "code",
      "source": [
        "data.info()"
      ],
      "metadata": {
        "colab": {
          "base_uri": "https://localhost:8080/"
        },
        "id": "IZheY0q7lvQg",
        "outputId": "342af72d-2169-44c8-e983-27b31a8c90a6"
      },
      "execution_count": null,
      "outputs": [
        {
          "output_type": "stream",
          "name": "stdout",
          "text": [
            "<class 'pandas.core.frame.DataFrame'>\n",
            "RangeIndex: 1007 entries, 0 to 1006\n",
            "Data columns (total 8 columns):\n",
            " #   Column                   Non-Null Count  Dtype  \n",
            "---  ------                   --------------  -----  \n",
            " 0   Car Make                 1007 non-null   int64  \n",
            " 1   Car Model                1007 non-null   int64  \n",
            " 2   Year                     1007 non-null   int64  \n",
            " 3   Engine Size (L)          1007 non-null   float64\n",
            " 4   Horsepower               1007 non-null   float64\n",
            " 5   Torque (lb-ft)           1007 non-null   float64\n",
            " 6   0-60 MPH Time (seconds)  1007 non-null   float64\n",
            " 7   Price (in USD)           1007 non-null   int64  \n",
            "dtypes: float64(4), int64(4)\n",
            "memory usage: 63.1 KB\n"
          ]
        }
      ]
    },
    {
      "cell_type": "code",
      "source": [
        "# Lectura de Datos\n",
        "columnas_seleccionadas = list(range(0, 7))\n",
        "X = data.iloc[:, columnas_seleccionadas]\n",
        "y = data.iloc[:, 7]\n",
        "m = y.size"
      ],
      "metadata": {
        "id": "YuuRUXgCwvZ_"
      },
      "execution_count": null,
      "outputs": []
    },
    {
      "cell_type": "code",
      "source": [
        "print(X)\n",
        "print('*'*25)\n",
        "print(y)"
      ],
      "metadata": {
        "colab": {
          "base_uri": "https://localhost:8080/"
        },
        "id": "x1NBC6A6xFoC",
        "outputId": "f6d54d8f-424d-4d16-a9e3-0820b90c19b3"
      },
      "execution_count": null,
      "outputs": [
        {
          "output_type": "stream",
          "name": "stdout",
          "text": [
            "      Car Make  Car Model  Year  Engine Size (L)  Horsepower  Torque (lb-ft)  \\\n",
            "0           28         18  2022              3.0       379.0           331.0   \n",
            "1           16         98  2021              5.2       630.0           443.0   \n",
            "2           11          5  2022              3.9       661.0           561.0   \n",
            "3            5        130  2022              5.2       562.0           406.0   \n",
            "4           21         15  2021              4.0       710.0           568.0   \n",
            "...        ...        ...   ...              ...         ...             ...   \n",
            "1002        15         99  2022              5.0      1280.0          1106.0   \n",
            "1003        18         76  2021              7.0      1972.0          1254.0   \n",
            "1004        21        157  2021              4.0       789.0           590.0   \n",
            "1005        25         95  2021              6.0       764.0           738.0   \n",
            "1006        29        122  2021              7.0      1888.0          1696.0   \n",
            "\n",
            "      0-60 MPH Time (seconds)  \n",
            "0                        4.00  \n",
            "1                        2.80  \n",
            "2                        3.00  \n",
            "3                        3.20  \n",
            "4                        2.70  \n",
            "...                       ...  \n",
            "1002                     2.50  \n",
            "1003                     2.00  \n",
            "1004                     2.70  \n",
            "1005                     3.00  \n",
            "1006                     1.85  \n",
            "\n",
            "[1007 rows x 7 columns]\n",
            "*************************\n",
            "0        101200\n",
            "1        274390\n",
            "2        333750\n",
            "3        142700\n",
            "4        298000\n",
            "         ...   \n",
            "1002    3000000\n",
            "1003    2000000\n",
            "1004    1000000\n",
            "1005    2600000\n",
            "1006    2400000\n",
            "Name: Price (in USD), Length: 1007, dtype: int64\n"
          ]
        }
      ]
    },
    {
      "cell_type": "code",
      "source": [
        "def  featureNormalize(X):\n",
        "    X_norm = X.copy()\n",
        "    mu = np.zeros(X.shape[1])\n",
        "    sigma = np.zeros(X.shape[1])\n",
        "\n",
        "    mu = np.mean(X, axis = 0)\n",
        "    sigma = np.std(X, axis = 0)\n",
        "    X_norm = (X - mu) / sigma\n",
        "\n",
        "    return X_norm, mu, sigma"
      ],
      "metadata": {
        "id": "DrrFytt2gkI8"
      },
      "execution_count": null,
      "outputs": []
    },
    {
      "cell_type": "code",
      "source": [
        "# llama featureNormalize con los datos cargados\n",
        "X_norm, mu, sigma = featureNormalize(X)\n",
        "\n",
        "print(X)\n",
        "print('Media calculada:', mu)\n",
        "print('Desviación estandar calculada:', sigma)\n",
        "print(X_norm)"
      ],
      "metadata": {
        "colab": {
          "base_uri": "https://localhost:8080/"
        },
        "id": "MhHhItqc4YLy",
        "outputId": "2d223886-b855-4508-eb2f-6ef2e7489d4e"
      },
      "execution_count": null,
      "outputs": [
        {
          "output_type": "stream",
          "name": "stdout",
          "text": [
            "      Car Make  Car Model  Year  Engine Size (L)  Horsepower  Torque (lb-ft)  \\\n",
            "0           28         18  2022              3.0       379.0           331.0   \n",
            "1           16         98  2021              5.2       630.0           443.0   \n",
            "2           11          5  2022              3.9       661.0           561.0   \n",
            "3            5        130  2022              5.2       562.0           406.0   \n",
            "4           21         15  2021              4.0       710.0           568.0   \n",
            "...        ...        ...   ...              ...         ...             ...   \n",
            "1002        15         99  2022              5.0      1280.0          1106.0   \n",
            "1003        18         76  2021              7.0      1972.0          1254.0   \n",
            "1004        21        157  2021              4.0       789.0           590.0   \n",
            "1005        25         95  2021              6.0       764.0           738.0   \n",
            "1006        29        122  2021              7.0      1888.0          1696.0   \n",
            "\n",
            "      0-60 MPH Time (seconds)  \n",
            "0                        4.00  \n",
            "1                        2.80  \n",
            "2                        3.00  \n",
            "3                        3.20  \n",
            "4                        2.70  \n",
            "...                       ...  \n",
            "1002                     2.50  \n",
            "1003                     2.00  \n",
            "1004                     2.70  \n",
            "1005                     3.00  \n",
            "1006                     1.85  \n",
            "\n",
            "[1007 rows x 7 columns]\n",
            "Media calculada: Car Make                     15.246276\n",
            "Car Model                    87.753724\n",
            "Year                       2021.201589\n",
            "Engine Size (L)               4.403996\n",
            "Horsepower                  627.324649\n",
            "Torque (lb-ft)              542.185185\n",
            "0-60 MPH Time (seconds)       3.515010\n",
            "dtype: float64\n",
            "Desviación estandar calculada: Car Make                     8.753659\n",
            "Car Model                   48.041286\n",
            "Year                         2.018799\n",
            "Engine Size (L)              1.363893\n",
            "Horsepower                 298.480646\n",
            "Torque (lb-ft)             241.423206\n",
            "0-60 MPH Time (seconds)      0.775587\n",
            "dtype: float64\n",
            "      Car Make  Car Model      Year  Engine Size (L)  Horsepower  \\\n",
            "0     1.456959  -1.451954  0.395488        -1.029403   -0.831962   \n",
            "1     0.086104   0.213281 -0.099856         0.583627    0.008963   \n",
            "2    -0.485086  -1.722554  0.395488        -0.369527    0.112823   \n",
            "3    -1.170514   0.879374  0.395488         0.583627   -0.218857   \n",
            "4     0.657294  -1.514400 -0.099856        -0.296208    0.276987   \n",
            "...        ...        ...       ...              ...         ...   \n",
            "1002 -0.028134   0.234096  0.395488         0.436988    2.186659   \n",
            "1003  0.314580  -0.244659 -0.099856         1.903379    4.505067   \n",
            "1004  0.657294   1.441391 -0.099856        -0.296208    0.541661   \n",
            "1005  1.114245   0.150834 -0.099856         1.170183    0.457904   \n",
            "1006  1.571197   0.712851 -0.099856         1.903379    4.223642   \n",
            "\n",
            "      Torque (lb-ft)  0-60 MPH Time (seconds)  \n",
            "0          -0.874751                 0.625320  \n",
            "1          -0.410835                -0.921896  \n",
            "2           0.077933                -0.664026  \n",
            "3          -0.564093                -0.406157  \n",
            "4           0.106928                -1.050830  \n",
            "...              ...                      ...  \n",
            "1002        2.335380                -1.308700  \n",
            "1003        2.948411                -1.953373  \n",
            "1004        0.198054                -1.050830  \n",
            "1005        0.811085                -0.664026  \n",
            "1006        4.779221                -2.146775  \n",
            "\n",
            "[1007 rows x 7 columns]\n"
          ]
        }
      ]
    },
    {
      "cell_type": "code",
      "source": [
        "# Añade el termino de interseccion a X\n",
        "# (Columna de unos para X0)\n",
        "X = np.concatenate([np.ones((m, 1)), X_norm], axis=1)"
      ],
      "metadata": {
        "id": "EB4cCmdm4bxJ"
      },
      "execution_count": null,
      "outputs": []
    },
    {
      "cell_type": "code",
      "source": [
        "print(X)"
      ],
      "metadata": {
        "colab": {
          "base_uri": "https://localhost:8080/"
        },
        "id": "jxdWrQDC4fcD",
        "outputId": "b7d505e3-3021-45e9-dda0-087f3cf502e3"
      },
      "execution_count": null,
      "outputs": [
        {
          "output_type": "stream",
          "name": "stdout",
          "text": [
            "[[ 1.          1.45695927 -1.45195372 ... -0.83196232 -0.87475097\n",
            "   0.6253203 ]\n",
            " [ 1.          0.08610388  0.21328064 ...  0.00896323 -0.41083534\n",
            "  -0.92189566]\n",
            " [ 1.         -0.48508587 -1.7225543  ...  0.11282256  0.07793292\n",
            "  -0.66402633]\n",
            " ...\n",
            " [ 1.          0.65729362  1.44139097 ...  0.54166109  0.19805393\n",
            "  -1.05083032]\n",
            " [ 1.          1.11424542  0.15083435 ...  0.45790356  0.8110853\n",
            "  -0.66402633]\n",
            " [ 1.          1.57119722  0.71285094 ...  4.22364186  4.77922082\n",
            "  -2.14677496]]\n"
          ]
        }
      ]
    },
    {
      "cell_type": "code",
      "source": [
        "def computeCostMulti(X, y, theta):\n",
        "    # Inicializa algunos valores utiles\n",
        "    m = y.shape[0] # numero de ejemplos de entrenamiento\n",
        "\n",
        "    J = 0\n",
        "\n",
        "    h = np.dot(X, theta)\n",
        "\n",
        "    J = (1/(2 * m)) * np.sum(np.square(np.dot(X, theta) - y))\n",
        "\n",
        "    return J\n"
      ],
      "metadata": {
        "id": "is_NER384kX5"
      },
      "execution_count": null,
      "outputs": []
    },
    {
      "cell_type": "code",
      "source": [
        "def gradientDescentMulti(X, y, theta, alpha, num_iters):\n",
        "\n",
        "    # Inicializa algunos valores\n",
        "    m = y.shape[0] # numero de ejemplos de entrenamiento\n",
        "\n",
        "    # realiza una copia de theta, el cual será acutalizada por el descenso por el gradiente\n",
        "    theta = theta.copy()\n",
        "\n",
        "    J_history = []\n",
        "\n",
        "    for i in range(num_iters):\n",
        "        theta = theta - (alpha / m) * (np.dot(X, theta) - y).dot(X)\n",
        "        J_history.append(computeCostMulti(X, y, theta))\n",
        "\n",
        "    return theta, J_history"
      ],
      "metadata": {
        "id": "NTic99Il4k9H"
      },
      "execution_count": null,
      "outputs": []
    },
    {
      "cell_type": "code",
      "source": [
        "# Elegir algun valor para alpha (probar varias alternativas)\n",
        "alpha = 0.001\n",
        "num_iters = 5000\n",
        "\n",
        "# inicializa theta y ejecuta el descenso por el gradiente\n",
        "theta = np.zeros(8)\n",
        "theta, J_history = gradientDescentMulti(X, y, theta, alpha, num_iters)\n",
        "\n",
        "# Grafica la convergencia del costo\n",
        "pyplot.plot(np.arange(len(J_history)), J_history, lw=2)\n",
        "pyplot.xlabel('Numero de iteraciones')\n",
        "pyplot.ylabel('Costo J')\n",
        "\n",
        "# Muestra los resultados del descenso por el gradiente\n",
        "print('theta calculado por el descenso por el gradiente: {:s}'.format(str(theta)))\n",
        "\n",
        "# Estimar el precio para un smart watch con distintas caracteristicas\n",
        "X_array = [1, 28, 18, 2022, 3.0, 379.0, 331.0, 4.0]\n",
        "X_array[1:8] = (X_array[1:8] - mu) / sigma\n",
        "price = np.dot(X_array, theta)   # Se debe cambiar esto\n",
        "\n",
        "print('El valor predecido es (usando el descenso por el gradiente): {:.4f}'.format(price))"
      ],
      "metadata": {
        "colab": {
          "base_uri": "https://localhost:8080/",
          "height": 517
        },
        "id": "2sc2AmKF4qJQ",
        "outputId": "9ffe48c1-a8f3-403b-8be0-17789bb72e95"
      },
      "execution_count": null,
      "outputs": [
        {
          "output_type": "stream",
          "name": "stdout",
          "text": [
            "theta calculado por el descenso por el gradiente: [379468.23507522  23366.135143   -26663.25261013 -29095.70048973\n",
            "  23693.52471995 385580.14939959 202200.72585962  35331.97137529]\n",
            "El valor predecido es (usando el descenso por el gradiente): -59241.2870\n"
          ]
        },
        {
          "output_type": "display_data",
          "data": {
            "text/plain": [
              "<Figure size 640x480 with 1 Axes>"
            ],
            "image/png": "[encoded data removed]"
          },
          "metadata": {}
        }
      ]
    },
    {
      "cell_type": "code",
      "source": [
        "X_array = [1, 2, 130, 32, 1, 17, 1.48, 29, 4, 12, 0, 1, 1]\n",
        "X_array[1:13] = (X_array[1:13] - mu) / sigma"
      ],
      "metadata": {
        "id": "pHpGapUtf4QP"
      },
      "execution_count": null,
      "outputs": []
    },
    {
      "cell_type": "code",
      "source": [
        "X_array[1:13]"
      ],
      "metadata": {
        "colab": {
          "base_uri": "https://localhost:8080/"
        },
        "id": "c_fhRmzof56K",
        "outputId": "ceb85157-d59b-40bf-920b-f4f74a4d5044"
      },
      "execution_count": null,
      "outputs": [
        {
          "output_type": "execute_result",
          "data": {
            "text/plain": [
              "[-1.2439419470989352,\n",
              " 1.5689754318326286,\n",
              " 0.9792781840162572,\n",
              " -0.3771728032399776,\n",
              " 1.0932811569154612,\n",
              " 0.5363648088121512,\n",
              " 0.7473047451998474,\n",
              " -0.594821513259398,\n",
              " 0.19811839457082608,\n",
              " -0.05143444998736397,\n",
              " 0.2776677449836892,\n",
              " 0.42535009791885303]"
            ]
          },
          "metadata": {},
          "execution_count": 32
        }
      ]
    },
    {
      "cell_type": "code",
      "source": [
        "def normalEqn(X, y):\n",
        "\n",
        "    theta = np.zeros(X.shape[1])\n",
        "\n",
        "    theta = np.dot(np.dot(np.linalg.inv(np.dot(X.T,X)),X.T),y)\n",
        "\n",
        "    return theta"
      ],
      "metadata": {
        "id": "_MMoIdODf9FN"
      },
      "execution_count": null,
      "outputs": []
    },
    {
      "cell_type": "code",
      "source": [
        "# Calcula los parametros con la ecuación de la normal\n",
        "theta = normalEqn(X, y);\n",
        "\n",
        "# Muestra los resultados optenidos a partir de la aplicación de la ecuación de la normal\n",
        "print('Theta calculado a partir de la ecuación de la normal: {:s}'.format(str(theta)));\n",
        "\n",
        "# Estimar el precio para una casa de superficie de 1650 sq-ft y tres dormitorios\n",
        "\n",
        "X_array = [1, 2, 130, 32, 1, 17, 1.48, 29, 4, 12, 0, 1, 1]\n",
        "price = np.dot(X_array, theta)\n",
        "\n",
        "print('Precio predecido para una cada de superficie de 1650 sq-ft y 3 dormitorios (usando la ecuación de la normal): ${:.0f}'.format(price))"
      ],
      "metadata": {
        "colab": {
          "base_uri": "https://localhost:8080/"
        },
        "id": "E7px4OMrf9un",
        "outputId": "f7346816-9f0c-49d6-8230-2b9b92670703"
      },
      "execution_count": null,
      "outputs": [
        {
          "output_type": "stream",
          "name": "stdout",
          "text": [
            "Theta calculado a partir de la ecuación de la normal: [295.01075269 -22.66059232 -24.95071482  17.24963202  11.15742413\n",
            "  30.71118048  18.14609    -22.20506309 -45.42988905 -17.92773896\n",
            "  -1.53132323  35.88295193   4.70493344]\n",
            "Precio predecido para una cada de superficie de 1650 sq-ft y 3 dormitorios (usando la ecuación de la normal): $-2882\n"
          ]
        }
      ]
    }
  ]
}