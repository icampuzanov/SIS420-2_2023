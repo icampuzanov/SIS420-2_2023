{
  "nbformat": 4,
  "nbformat_minor": 0,
  "metadata": {
    "kernelspec": {
      "display_name": "Python 3",
      "language": "python",
      "name": "python3"
    },
    "language_info": {
      "codemirror_mode": {
        "name": "ipython",
        "version": 3
      },
      "file_extension": ".py",
      "mimetype": "text/x-python",
      "name": "python",
      "nbconvert_exporter": "python",
      "pygments_lexer": "ipython3",
      "version": "3.8.8"
    },
    "colab": {
      "provenance": [],
      "include_colab_link": true
    }
  },
  "cells": [
    {
      "cell_type": "markdown",
      "metadata": {
        "id": "view-in-github",
        "colab_type": "text"
      },
      "source": [
        "<a href=\"https://colab.research.google.com/github/icampuzanov/SIS420-2_2023/blob/main/LAB_3.ipynb\" target=\"_parent\"><img src=\"https://colab.research.google.com/assets/colab-badge.svg\" alt=\"Open In Colab\"/></a>"
      ]
    },
    {
      "cell_type": "markdown",
      "metadata": {
        "id": "k4ezJirofDOK"
      },
      "source": [
        "# Ejercicion de programación - Regresión Logistica\n",
        "\n",
        "En este ejercicio se implementa regresion logistica y se aplica a dos diferentes datasets."
      ]
    },
    {
      "cell_type": "code",
      "metadata": {
        "id": "UIILrG1ifDOM"
      },
      "source": [
        "# se utiliza para el manejo de rutas y directorios.\n",
        "import os\n",
        "\n",
        "# Calculo cientifico y vectorial para python\n",
        "import numpy as np\n",
        "\n",
        "# Librerias para graficar\n",
        "from matplotlib import pyplot\n",
        "\n",
        "# Modulo de optimización de scipy\n",
        "from scipy import optimize\n",
        "\n",
        "# le dice a matplotlib que incruste gráficos en el cuaderno\n",
        "%matplotlib inline"
      ],
      "execution_count": 1,
      "outputs": []
    },
    {
      "cell_type": "code",
      "source": [
        "import pandas as pd\n",
        "from sklearn.preprocessing import LabelEncoder\n",
        "from datetime import datetime"
      ],
      "metadata": {
        "id": "J6XcnwMsemRv"
      },
      "execution_count": 2,
      "outputs": []
    },
    {
      "cell_type": "code",
      "source": [
        "#Carga de dataset con pandas\n",
        "data = pd.read_csv('/content/dataR2.csv')"
      ],
      "metadata": {
        "id": "ZtzlHjpUenIB"
      },
      "execution_count": 3,
      "outputs": []
    },
    {
      "cell_type": "code",
      "source": [
        "print(data)"
      ],
      "metadata": {
        "colab": {
          "base_uri": "https://localhost:8080/"
        },
        "id": "vAbdicrSe8NA",
        "outputId": "559eb017-e2da-4cf3-8d05-7c9416aaf011"
      },
      "execution_count": 4,
      "outputs": [
        {
          "output_type": "stream",
          "name": "stdout",
          "text": [
            "     Age        BMI  Glucose  Insulin      HOMA   Leptin  Adiponectin  \\\n",
            "0     48  23.500000       70    2.707  0.467409   8.8071     9.702400   \n",
            "1     83  20.690495       92    3.115  0.706897   8.8438     5.429285   \n",
            "2     82  23.124670       91    4.498  1.009651  17.9393    22.432040   \n",
            "3     68  21.367521       77    3.226  0.612725   9.8827     7.169560   \n",
            "4     86  21.111111       92    3.549  0.805386   6.6994     4.819240   \n",
            "..   ...        ...      ...      ...       ...      ...          ...   \n",
            "111   45  26.850000       92    3.330  0.755688  54.6800    12.100000   \n",
            "112   62  26.840000      100    4.530  1.117400  12.4500    21.420000   \n",
            "113   65  32.050000       97    5.730  1.370998  61.4800    22.540000   \n",
            "114   72  25.590000       82    2.820  0.570392  24.9600    33.750000   \n",
            "115   86  27.180000      138   19.910  6.777364  90.2800    14.110000   \n",
            "\n",
            "     Resistin    MCP.1  Classification  \n",
            "0     7.99585  417.114               1  \n",
            "1     4.06405  468.786               1  \n",
            "2     9.27715  554.697               1  \n",
            "3    12.76600  928.220               1  \n",
            "4    10.57635  773.920               1  \n",
            "..        ...      ...             ...  \n",
            "111  10.96000  268.230               2  \n",
            "112   7.32000  330.160               2  \n",
            "113  10.33000  314.050               2  \n",
            "114   3.27000  392.460               2  \n",
            "115   4.35000   90.090               2  \n",
            "\n",
            "[116 rows x 10 columns]\n"
          ]
        }
      ]
    },
    {
      "cell_type": "markdown",
      "metadata": {
        "id": "VFzWxw7SfDON"
      },
      "source": [
        "## 1 Regresion Logistica\n",
        "\n",
        "En esta parte del ejercicio, creará un modelo de regresión logística para predecir si un estudiante será admitido en una universidad. Suponga que es el administrador de un departamento universitario y desea determinar las posibilidades de admisión de cada solicitante en función de sus resultados en dos exámenes. Tiene datos históricos de solicitantes anteriores que puede usar como un conjunto de capacitación para la regresión logística. Para cada ejemplo de capacitación, se tiene las calificaciones del solicitante en dos exámenes y la decisión de admisión. Su tarea es crear un modelo de clasificación que calcule la probabilidad de admisión de un solicitante en función de los puntajes de esos dos exámenes.\n",
        "\n",
        "La siguiente celda cargará los datos y las etiquetas correspondientes:"
      ]
    },
    {
      "cell_type": "code",
      "metadata": {
        "id": "2j4beWIbfDON",
        "colab": {
          "base_uri": "https://localhost:8080/"
        },
        "outputId": "54b44078-c5c3-4eac-dd98-23a1d37faf4f"
      },
      "source": [
        "X = data.iloc[:, :9]\n",
        "y = data.iloc[:, 9]\n",
        "m = y.size\n",
        "X.info()\n",
        "print('*'*30)\n",
        "print(y)"
      ],
      "execution_count": 5,
      "outputs": [
        {
          "output_type": "stream",
          "name": "stdout",
          "text": [
            "<class 'pandas.core.frame.DataFrame'>\n",
            "RangeIndex: 116 entries, 0 to 115\n",
            "Data columns (total 9 columns):\n",
            " #   Column       Non-Null Count  Dtype  \n",
            "---  ------       --------------  -----  \n",
            " 0   Age          116 non-null    int64  \n",
            " 1   BMI          116 non-null    float64\n",
            " 2   Glucose      116 non-null    int64  \n",
            " 3   Insulin      116 non-null    float64\n",
            " 4   HOMA         116 non-null    float64\n",
            " 5   Leptin       116 non-null    float64\n",
            " 6   Adiponectin  116 non-null    float64\n",
            " 7   Resistin     116 non-null    float64\n",
            " 8   MCP.1        116 non-null    float64\n",
            "dtypes: float64(7), int64(2)\n",
            "memory usage: 8.3 KB\n",
            "******************************\n",
            "0      1\n",
            "1      1\n",
            "2      1\n",
            "3      1\n",
            "4      1\n",
            "      ..\n",
            "111    2\n",
            "112    2\n",
            "113    2\n",
            "114    2\n",
            "115    2\n",
            "Name: Classification, Length: 116, dtype: int64\n"
          ]
        }
      ]
    },
    {
      "cell_type": "code",
      "source": [
        "def  featureNormalize(X):\n",
        "    X_norm = X.copy()\n",
        "    mu = np.zeros(X.shape[1])\n",
        "    sigma = np.zeros(X.shape[1])\n",
        "\n",
        "    mu = np.mean(X, axis = 0)\n",
        "    sigma = np.std(X, axis = 0)\n",
        "    X_norm = (X - mu) / sigma\n",
        "\n",
        "    return X_norm, mu, sigma"
      ],
      "metadata": {
        "id": "8mLy4YXBqcQP"
      },
      "execution_count": 6,
      "outputs": []
    },
    {
      "cell_type": "code",
      "source": [
        "# llama featureNormalize con los datos cargados\n",
        "X_norm, mu, sigma = featureNormalize(X)\n",
        "\n",
        "print(X)\n",
        "print('Media calculada:', mu)\n",
        "print('Desviación estandar calculada:', sigma)\n",
        "print(X_norm)"
      ],
      "metadata": {
        "colab": {
          "base_uri": "https://localhost:8080/"
        },
        "id": "O0nEzQ4DqeFM",
        "outputId": "a847432e-dd05-48af-f3fc-be8feb95f28f"
      },
      "execution_count": 7,
      "outputs": [
        {
          "output_type": "stream",
          "name": "stdout",
          "text": [
            "     Age        BMI  Glucose  Insulin      HOMA   Leptin  Adiponectin  \\\n",
            "0     48  23.500000       70    2.707  0.467409   8.8071     9.702400   \n",
            "1     83  20.690495       92    3.115  0.706897   8.8438     5.429285   \n",
            "2     82  23.124670       91    4.498  1.009651  17.9393    22.432040   \n",
            "3     68  21.367521       77    3.226  0.612725   9.8827     7.169560   \n",
            "4     86  21.111111       92    3.549  0.805386   6.6994     4.819240   \n",
            "..   ...        ...      ...      ...       ...      ...          ...   \n",
            "111   45  26.850000       92    3.330  0.755688  54.6800    12.100000   \n",
            "112   62  26.840000      100    4.530  1.117400  12.4500    21.420000   \n",
            "113   65  32.050000       97    5.730  1.370998  61.4800    22.540000   \n",
            "114   72  25.590000       82    2.820  0.570392  24.9600    33.750000   \n",
            "115   86  27.180000      138   19.910  6.777364  90.2800    14.110000   \n",
            "\n",
            "     Resistin    MCP.1  \n",
            "0     7.99585  417.114  \n",
            "1     4.06405  468.786  \n",
            "2     9.27715  554.697  \n",
            "3    12.76600  928.220  \n",
            "4    10.57635  773.920  \n",
            "..        ...      ...  \n",
            "111  10.96000  268.230  \n",
            "112   7.32000  330.160  \n",
            "113  10.33000  314.050  \n",
            "114   3.27000  392.460  \n",
            "115   4.35000   90.090  \n",
            "\n",
            "[116 rows x 9 columns]\n",
            "Media calculada: Age             57.301724\n",
            "BMI             27.582111\n",
            "Glucose         97.793103\n",
            "Insulin         10.012086\n",
            "HOMA             2.694988\n",
            "Leptin          26.615080\n",
            "Adiponectin     10.180874\n",
            "Resistin        14.725966\n",
            "MCP.1          534.647000\n",
            "dtype: float64\n",
            "Desviación estandar calculada: Age             16.043164\n",
            "BMI              4.998450\n",
            "Glucose         22.427860\n",
            "Insulin         10.024278\n",
            "HOMA             3.626311\n",
            "Leptin          19.100428\n",
            "Adiponectin      6.813780\n",
            "Resistin        12.337122\n",
            "MCP.1          344.418433\n",
            "dtype: float64\n",
            "          Age       BMI   Glucose   Insulin      HOMA    Leptin  Adiponectin  \\\n",
            "0   -0.579794 -0.816675 -1.239222 -0.728739 -0.614282 -0.932334    -0.070222   \n",
            "1    1.601821 -1.378751 -0.258299 -0.688038 -0.548240 -0.930413    -0.697350   \n",
            "2    1.539489 -0.891764 -0.302887 -0.550073 -0.464752 -0.454219     1.797998   \n",
            "3    0.666843 -1.243303 -0.927110 -0.676965 -0.574210 -0.876021    -0.441945   \n",
            "4    1.788816 -1.294601 -0.258299 -0.644743 -0.521081 -1.042682    -0.786881   \n",
            "..        ...       ...       ...       ...       ...       ...          ...   \n",
            "111 -0.766789 -0.146468 -0.258299 -0.666590 -0.534786  1.469335     0.281654   \n",
            "112  0.292852 -0.148468  0.098400 -0.546881 -0.435039 -0.741611     1.649470   \n",
            "113  0.479848  0.893855 -0.035362 -0.427172 -0.365106  1.825348     1.813843   \n",
            "114  0.916171 -0.398546 -0.704173 -0.717467 -0.585883 -0.086651     3.459038   \n",
            "115  1.788816 -0.080447  1.792721  0.987394  1.125766  3.333167     0.576644   \n",
            "\n",
            "     Resistin     MCP.1  \n",
            "0   -0.545517 -0.341251  \n",
            "1   -0.864214 -0.191224  \n",
            "2   -0.441660  0.058214  \n",
            "3   -0.158867  1.142718  \n",
            "4   -0.336352  0.694716  \n",
            "..        ...       ...  \n",
            "111 -0.305255 -0.773527  \n",
            "112 -0.600299 -0.593717  \n",
            "113 -0.356320 -0.640491  \n",
            "114 -0.928577 -0.412832  \n",
            "115 -0.841036 -1.290747  \n",
            "\n",
            "[116 rows x 9 columns]\n"
          ]
        }
      ]
    },
    {
      "cell_type": "markdown",
      "metadata": {
        "id": "z-Xx5IVBfDOP"
      },
      "source": [
        "<a id=\"section1\"></a>\n",
        "### 1.2 Implementacion\n",
        "\n",
        "#### 1.2.1 Fución Sigmoidea\n",
        "\n",
        "La hipotesis para la regresión logistica se define como:\n",
        "\n",
        "$$ h_\\theta(x) = g(\\theta^T x)$$\n",
        "\n",
        "donde la función $g$ is la función sigmoidea. La función sigmoidea se define como:\n",
        "\n",
        "$$g(z) = \\frac{1}{1+e^{-z}}$$.\n",
        "\n",
        "Los resultados que debe generar la funcion sigmoidea para valores positivos amplios de `x`, deben ser cercanos a 1, mientras que para valores negativos grandes, la sigmoide debe generar valores cercanos 0. La evaluacion de `sigmoid(0)` debe dar un resultado exacto de 0.5. Esta funcion tambien debe poder trabajar con vectores y matrices."
      ]
    },
    {
      "cell_type": "code",
      "metadata": {
        "id": "Yxz27db7fDOQ"
      },
      "source": [
        "def sigmoid(z):\n",
        "    # Calcula la sigmoide de una entrada z\n",
        "    # convierte la intrada a un arreglo numpy\n",
        "    z = np.array(z)\n",
        "\n",
        "    g = np.zeros(z.shape)\n",
        "\n",
        "    g = 1 / (1 + np.exp(-z))\n",
        "\n",
        "    return g"
      ],
      "execution_count": 8,
      "outputs": []
    },
    {
      "cell_type": "markdown",
      "metadata": {
        "id": "kzXMjefFfDOQ"
      },
      "source": [
        "Se calcula el valor de la sigmoide aplicando la funcion sigmoid con `z=0`, se debe obtener un resultado de 0.5. RE recomienda experimentar con otros valores de `z`."
      ]
    },
    {
      "cell_type": "code",
      "metadata": {
        "id": "arfKRAAVfDOQ",
        "colab": {
          "base_uri": "https://localhost:8080/"
        },
        "outputId": "b0e5626a-dd7f-4310-e691-feb9021c48a8"
      },
      "source": [
        "# Prueba la implementacion de la funcion sigmoid\n",
        "z = 0\n",
        "g = sigmoid(z)\n",
        "\n",
        "print('g(', z, ') = ', g)"
      ],
      "execution_count": 9,
      "outputs": [
        {
          "output_type": "stream",
          "name": "stdout",
          "text": [
            "g( 0 ) =  0.5\n"
          ]
        }
      ]
    },
    {
      "cell_type": "markdown",
      "metadata": {
        "id": "BQ9Jf06yfDOR"
      },
      "source": [
        "<a id=\"section2\"></a>\n",
        "#### 1.2.2 Función de Costo y Gradiente\n",
        "\n",
        "Se implementa la funcion cost y gradient, para la regresión logistica. Antes de continuar es importante agregar el termino de intercepcion a X."
      ]
    },
    {
      "cell_type": "code",
      "metadata": {
        "id": "COMnlBxmfDOR",
        "colab": {
          "base_uri": "https://localhost:8080/"
        },
        "outputId": "bb9327df-7b44-4529-b500-c1861de39ce6"
      },
      "source": [
        "# Configurar la matriz adecuadamente, y agregar una columna de unos que corresponde al termino de intercepción.\n",
        "m, n = X.shape\n",
        "# Agraga el termino de intercepción a A\n",
        "X = np.concatenate([np.ones((m, 1)), X_norm], axis=1)\n",
        "\n",
        "print(X[5])"
      ],
      "execution_count": 10,
      "outputs": [
        {
          "output_type": "stream",
          "name": "stdout",
          "text": [
            "[ 1.         -0.51746179 -0.94582375 -0.25829943 -0.67696507 -0.5412941\n",
            " -1.03575583  0.51349997 -0.3573253  -0.0123019 ]\n"
          ]
        }
      ]
    },
    {
      "cell_type": "markdown",
      "metadata": {
        "id": "fO9hT_XbfDOS"
      },
      "source": [
        "La funcion de costo en una regresión logistica es:\n",
        "\n",
        "$$ J(\\theta) = \\frac{1}{m} \\sum_{i=1}^{m} \\left[ -y^{(i)} \\log\\left(h_\\theta\\left( x^{(i)} \\right) \\right) - \\left( 1 - y^{(i)}\\right) \\log \\left( 1 - h_\\theta\\left( x^{(i)} \\right) \\right) \\right]$$\n",
        "\n",
        "y el gradiente del costo es un vector de la misma longitud como $\\theta$ donde el elemento $j^{th}$ (para $j = 0, 1, \\cdots , n$) se define como:\n",
        "\n",
        "$$ \\frac{\\partial J(\\theta)}{\\partial \\theta_j} = \\frac{1}{m} \\sum_{i=1}^m \\left( h_\\theta \\left( x^{(i)} \\right) - y^{(i)} \\right) x_j^{(i)} $$\n",
        "\n",
        "Si bien este gradiente parece idéntico al gradiente de regresión lineal, la fórmula es diferente porque la regresión lineal y logística tienen diferentes definiciones de $h_\\theta(x)$.\n",
        "<a id=\"costFunction\"></a>"
      ]
    },
    {
      "cell_type": "code",
      "metadata": {
        "id": "Cu1DP0y0fDOT"
      },
      "source": [
        "def calcularCosto(theta, X, y):\n",
        "    # Inicializar algunos valores utiles\n",
        "    m = y.size  # numero de ejemplos de entrenamiento\n",
        "\n",
        "    J = 0\n",
        "    h = sigmoid(X.dot(theta.T))\n",
        "    J = (1 / m) * np.sum(-y.dot(np.log(h)) - (1 - y).dot(np.log(1 - h)))\n",
        "\n",
        "    return J"
      ],
      "execution_count": 11,
      "outputs": []
    },
    {
      "cell_type": "code",
      "metadata": {
        "id": "BZhegpMZfDOT"
      },
      "source": [
        "def descensoGradiente(theta, X, y, alpha, num_iters):\n",
        "    # Inicializa algunos valores\n",
        "    m = y.shape[0] # numero de ejemplos de entrenamiento\n",
        "\n",
        "    # realiza una copia de theta, el cual será acutalizada por el descenso por el gradiente\n",
        "    theta = theta.copy()\n",
        "    J_history = []\n",
        "\n",
        "    for i in range(num_iters):\n",
        "        h = sigmoid(X.dot(theta.T))\n",
        "        theta = theta - (alpha / m) * (h - y).dot(X)\n",
        "\n",
        "        J_history.append(calcularCosto(theta, X, y))\n",
        "    return theta, J_history"
      ],
      "execution_count": 12,
      "outputs": []
    },
    {
      "cell_type": "code",
      "metadata": {
        "scrolled": true,
        "id": "SWXIkeQafDOT",
        "colab": {
          "base_uri": "https://localhost:8080/",
          "height": 501
        },
        "outputId": "1f5de8aa-aa56-43bb-8cde-23b7d735156a"
      },
      "source": [
        "# Elegir algun valor para alpha (probar varias alternativas)\n",
        "alpha = 0.00015\n",
        "num_iters = 15000\n",
        "\n",
        "# inicializa theta y ejecuta el descenso por el gradiente\n",
        "theta = np.zeros(10)\n",
        "theta, J_history = descensoGradiente(theta, X, y, alpha, num_iters)\n",
        "\n",
        "# Grafica la convergencia del costo\n",
        "pyplot.plot(np.arange(len(J_history)), J_history, lw=2)\n",
        "pyplot.xlabel('Numero de iteraciones')\n",
        "pyplot.ylabel('Costo J')\n",
        "\n",
        "# Muestra los resultados del descenso por el gradiente\n",
        "print('theta calculado por el descenso por el gradiente: {:s}'.format(str(theta)))\n",
        "\n",
        "# verificar si clasifica o no a la clase diabetes\n",
        "\n",
        "\n",
        "#X_array = [1, 48, 23.5, 70, 2.707, 0.467408667, 8.8071, 9.7024, 7.99585, 417.114]\n",
        "X_array = [1, 64, 34.5297228, 95, 4.427, 1.037393667, 21.2117, 5.46262, 6.70188, 252.449]\n",
        "\n",
        "X_array[1:10] = (X_array[1:10] - mu) / sigma\n",
        "\n",
        "\n",
        "ClassVariable = sigmoid(np.dot(X_array, theta))\n",
        "\n",
        "\n",
        "print(f\"Usando el descenso por el gradiente {ClassVariable} \")\n",
        "\n",
        "\n"
      ],
      "execution_count": 77,
      "outputs": [
        {
          "output_type": "stream",
          "name": "stdout",
          "text": [
            "theta calculado por el descenso por el gradiente: [ 1.88795864 -0.05111142 -0.1480118   0.34205772  0.22291521  0.2263004\n",
            " -0.02642174 -0.01029663  0.19998768  0.06423315]\n",
            "Usando el descenso por el gradiente 0.7725124280920985 \n"
          ]
        },
        {
          "output_type": "display_data",
          "data": {
            "text/plain": [
              "<Figure size 640x480 with 1 Axes>"
            ],
            "image/png": "[encoded data removed]"
          },
          "metadata": {}
        }
      ]
    },
    {
      "cell_type": "code",
      "source": [
        "import pandas as pd\n",
        "import numpy as np\n",
        "from sklearn.model_selection import train_test_split\n",
        "from sklearn.linear_model import LogisticRegression\n",
        "from sklearn.metrics import accuracy_score\n",
        "\n",
        "\n",
        "# Dividir los datos en conjuntos de entrenamiento y prueba (80% entrenamiento, 20% prueba)\n",
        "X_train, X_test, y_train, y_test = train_test_split(X, y, test_size=0.2, random_state=42)\n",
        "\n",
        "# Crear un modelo de regresión logística con un número máximo de iteraciones más alto\n",
        "model = LogisticRegression(max_iter=1000)\n",
        "\n",
        "# Entrenar el modelo en el conjunto de entrenamiento\n",
        "model.fit(X_train, y_train)\n",
        "\n",
        "# Realizar predicciones en el conjunto de prueba\n",
        "y_pred = model.predict(X_test)\n",
        "\n",
        "# Calcular la exactitud del modelo en el conjunto de prueba\n",
        "accuracy = accuracy_score(y_test, y_pred)\n",
        "print('Exactitud en el conjunto de prueba: {:.2f}%'.format(accuracy * 100))\n"
      ],
      "metadata": {
        "colab": {
          "base_uri": "https://localhost:8080/"
        },
        "id": "gniitYq_wRHw",
        "outputId": "70d7b7c1-f8b6-4c60-b3f4-68b81d321cf1"
      },
      "execution_count": 78,
      "outputs": [
        {
          "output_type": "stream",
          "name": "stdout",
          "text": [
            "Exactitud en el conjunto de prueba: 87.50%\n"
          ]
        }
      ]
    },
    {
      "cell_type": "code",
      "source": [
        "from sklearn.model_selection import train_test_split\n",
        "from sklearn.linear_model import LogisticRegression\n",
        "from sklearn.metrics import accuracy_score\n",
        "\n",
        "\n",
        "# Dividir los datos en conjuntos de entrenamiento y prueba (80% entrenamiento, 20% prueba)\n",
        "X_train, X_test, y_train, y_test = train_test_split(X, y, test_size=0.2, random_state=42)\n",
        "\n",
        "# Crear un modelo de regresión logística\n",
        "model = LogisticRegression()\n",
        "\n",
        "# Entrenar el modelo en el conjunto de entrenamiento\n",
        "model.fit(X_train, y_train)\n",
        "\n",
        "# Realizar predicciones en el conjunto de prueba\n",
        "y_pred = model.predict(X_test)\n",
        "\n",
        "# Calcular la exactitud del modelo en el conjunto de prueba\n",
        "accuracy = accuracy_score(y_test, y_pred)\n",
        "print('Exactitud en el conjunto de prueba: {:.2f}%'.format(accuracy * 100))\n"
      ],
      "metadata": {
        "colab": {
          "base_uri": "https://localhost:8080/"
        },
        "id": "fruw-XYMwBgo",
        "outputId": "c93448a2-a216-4253-876d-23384cdc7922"
      },
      "execution_count": 79,
      "outputs": [
        {
          "output_type": "stream",
          "name": "stdout",
          "text": [
            "Exactitud en el conjunto de prueba: 87.50%\n"
          ]
        }
      ]
    },
    {
      "cell_type": "markdown",
      "metadata": {
        "id": "jr8Lfi-ZfDOW"
      },
      "source": [
        "<a id=\"section4\"></a>\n",
        "#### 1.2.4 Evaluación de la regresión logistica\n",
        "\n",
        "Después de aprender los parámetros, se puede usar el modelo para predecir si un estudiante en particular será admitido. Para un estudiante con una puntuación en el Examen 1 de 45 y una puntuación en el Examen 2 de 85, debe esperar ver una probabilidad de admisión de 0,776. Otra forma de evaluar la calidad de los parámetros que hemos encontrado es ver qué tan bien predice el modelo aprendido en nuestro conjunto de entrenamiento."
      ]
    },
    {
      "cell_type": "code",
      "metadata": {
        "id": "kjavk2fEfDOX"
      },
      "source": [
        "def predict(theta, X):\n",
        "    \"\"\"\n",
        "    Predecir si la etiqueta es 0 o 1 mediante regresión logística aprendida.\n",
        "    Calcula las predicciones para X usando un umbral en 0.5 (es decir, si sigmoide (theta.T * x)> = 0.5, predice 1)\n",
        "\n",
        "    Parametros\n",
        "    ----------\n",
        "    theta : array_like\n",
        "        Parametros para regresion logistica. Un vecto de la forma (n+1, ).\n",
        "\n",
        "    X : array_like\n",
        "        Datos utilizados para el calculo de las predicciones.\n",
        "        La fila es el numero de los puntos para calcular las predicciones,\n",
        "        y las columnas con el numero de caracteristicas.\n",
        "\n",
        "    Devuelve\n",
        "    -------\n",
        "    p : array_like\n",
        "        Predicciones y 0 o 1 para cada fila en X.\n",
        "    \"\"\"\n",
        "    m = X.shape[0] # Numero de ejemplo de entrenamiento\n",
        "\n",
        "    p = np.zeros(m)\n",
        "\n",
        "    p = np.round(sigmoid(X.dot(theta.T)))\n",
        "    return p"
      ],
      "execution_count": 80,
      "outputs": []
    },
    {
      "cell_type": "markdown",
      "metadata": {
        "id": "D2rxLT_lfDOX"
      },
      "source": [
        "Una vez entrenado el modelo se procede a realizar la prediccion y evaluación de los resultados de predecir cual es el valor que vota el modelo para todos los datos utilizados en el entrenamiento."
      ]
    },
    {
      "cell_type": "code",
      "metadata": {
        "id": "R075_m5sfDOX",
        "colab": {
          "base_uri": "https://localhost:8080/"
        },
        "outputId": "e2bc98f3-c39b-4a5f-8c80-86fcf20b8b2b"
      },
      "source": [
        "#  Predice la probabilidad de ingreso para un estudiante con nota de 45 en el examen 1 y nota de 85 en el examen 2\n",
        "prob = sigmoid(np.dot([1, 48, 23.5, 70, 2.707, 0.467408667, 8.8071, 9.7024, 7.99585, 417.114], theta))\n",
        "print('Para una persona con esos sintomas, se predice una probabilidad de diabetes de: {:.3f}%'.format(prob))\n",
        "\n",
        "\n",
        "# Compute accuracy on our training set\n",
        "p = predict(theta, X)\n",
        "print('Precisión de entrenamiento: {:.2f} %'.format(np.mean(p == y) * 100))\n",
        "print('Precisión esperada (aproximadamente): 80.00 %')"
      ],
      "execution_count": 81,
      "outputs": [
        {
          "output_type": "stream",
          "name": "stdout",
          "text": [
            "Para una persona con esos sintomas, se predice una probabilidad de diabetes de: 1.000%\n",
            "Precisión de entrenamiento: 44.83 %\n",
            "Precisión esperada (aproximadamente): 80.00 %\n"
          ]
        }
      ]
    }
  ]
}