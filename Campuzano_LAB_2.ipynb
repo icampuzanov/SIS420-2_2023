{
  "nbformat": 4,
  "nbformat_minor": 0,
  "metadata": {
    "colab": {
      "provenance": [],
      "include_colab_link": true
    },
    "kernelspec": {
      "name": "python3",
      "display_name": "Python 3"
    },
    "language_info": {
      "name": "python"
    }
  },
  "cells": [
    {
      "cell_type": "markdown",
      "metadata": {
        "id": "view-in-github",
        "colab_type": "text"
      },
      "source": [
        "<a href=\"https://colab.research.google.com/github/icampuzanov/SIS420-2_2023/blob/main/Campuzano_LAB_2.ipynb\" target=\"_parent\"><img src=\"https://colab.research.google.com/assets/colab-badge.svg\" alt=\"Open In Colab\"/></a>"
      ]
    },
    {
      "cell_type": "code",
      "execution_count": 1,
      "metadata": {
        "id": "qUxgZvq33-ID"
      },
      "outputs": [],
      "source": [
        "# utilizado para manejos de directorios y rutas\n",
        "import os\n",
        "\n",
        "# Computacion vectorial y cientifica para python\n",
        "import numpy as np\n",
        "\n",
        "# Librerias para graficación (trazado de gráficos)\n",
        "from matplotlib import pyplot\n",
        "from mpl_toolkits.mplot3d import Axes3D  # Necesario para graficar superficies 3D\n",
        "\n",
        "# llama a matplotlib a embeber graficas dentro de los cuadernillos\n",
        "%matplotlib inline"
      ]
    },
    {
      "cell_type": "code",
      "source": [
        "import pandas as pd\n",
        "from sklearn.preprocessing import LabelEncoder\n",
        "from datetime import datetime"
      ],
      "metadata": {
        "id": "3zeLCpwjiQCT"
      },
      "execution_count": 2,
      "outputs": []
    },
    {
      "cell_type": "code",
      "source": [
        "#Carga de dataset\n",
        "data = pd.read_csv('/content/train.csv')"
      ],
      "metadata": {
        "id": "V0ZXOA-6iUmV"
      },
      "execution_count": 111,
      "outputs": []
    },
    {
      "cell_type": "code",
      "source": [
        "print(data)"
      ],
      "metadata": {
        "colab": {
          "base_uri": "https://localhost:8080/"
        },
        "id": "h325dVhXicrs",
        "outputId": "3fbeb389-62ab-4ef5-adfb-b23e93f6dfad"
      },
      "execution_count": 112,
      "outputs": [
        {
          "output_type": "stream",
          "name": "stdout",
          "text": [
            "        Id  MSSubClass MSZoning  LotFrontage  LotArea Street Alley LotShape  \\\n",
            "0        1          60       RL         65.0     8450   Pave   NaN      Reg   \n",
            "1        2          20       RL         80.0     9600   Pave   NaN      Reg   \n",
            "2        3          60       RL         68.0    11250   Pave   NaN      IR1   \n",
            "3        4          70       RL         60.0     9550   Pave   NaN      IR1   \n",
            "4        5          60       RL         84.0    14260   Pave   NaN      IR1   \n",
            "...    ...         ...      ...          ...      ...    ...   ...      ...   \n",
            "1455  1456          60       RL         62.0     7917   Pave   NaN      Reg   \n",
            "1456  1457          20       RL         85.0    13175   Pave   NaN      Reg   \n",
            "1457  1458          70       RL         66.0     9042   Pave   NaN      Reg   \n",
            "1458  1459          20       RL         68.0     9717   Pave   NaN      Reg   \n",
            "1459  1460          20       RL         75.0     9937   Pave   NaN      Reg   \n",
            "\n",
            "     LandContour Utilities  ... PoolArea PoolQC  Fence MiscFeature MiscVal  \\\n",
            "0            Lvl    AllPub  ...        0    NaN    NaN         NaN       0   \n",
            "1            Lvl    AllPub  ...        0    NaN    NaN         NaN       0   \n",
            "2            Lvl    AllPub  ...        0    NaN    NaN         NaN       0   \n",
            "3            Lvl    AllPub  ...        0    NaN    NaN         NaN       0   \n",
            "4            Lvl    AllPub  ...        0    NaN    NaN         NaN       0   \n",
            "...          ...       ...  ...      ...    ...    ...         ...     ...   \n",
            "1455         Lvl    AllPub  ...        0    NaN    NaN         NaN       0   \n",
            "1456         Lvl    AllPub  ...        0    NaN  MnPrv         NaN       0   \n",
            "1457         Lvl    AllPub  ...        0    NaN  GdPrv        Shed    2500   \n",
            "1458         Lvl    AllPub  ...        0    NaN    NaN         NaN       0   \n",
            "1459         Lvl    AllPub  ...        0    NaN    NaN         NaN       0   \n",
            "\n",
            "     MoSold YrSold  SaleType  SaleCondition  SalePrice  \n",
            "0         2   2008        WD         Normal     208500  \n",
            "1         5   2007        WD         Normal     181500  \n",
            "2         9   2008        WD         Normal     223500  \n",
            "3         2   2006        WD        Abnorml     140000  \n",
            "4        12   2008        WD         Normal     250000  \n",
            "...     ...    ...       ...            ...        ...  \n",
            "1455      8   2007        WD         Normal     175000  \n",
            "1456      2   2010        WD         Normal     210000  \n",
            "1457      5   2010        WD         Normal     266500  \n",
            "1458      4   2010        WD         Normal     142125  \n",
            "1459      6   2008        WD         Normal     147500  \n",
            "\n",
            "[1460 rows x 81 columns]\n"
          ]
        }
      ]
    },
    {
      "cell_type": "code",
      "source": [
        "data.info()"
      ],
      "metadata": {
        "colab": {
          "base_uri": "https://localhost:8080/"
        },
        "id": "ZoYIJwRyifh-",
        "outputId": "587afadb-a61b-4420-d5b9-9065873d17e8"
      },
      "execution_count": 113,
      "outputs": [
        {
          "output_type": "stream",
          "name": "stdout",
          "text": [
            "<class 'pandas.core.frame.DataFrame'>\n",
            "RangeIndex: 1460 entries, 0 to 1459\n",
            "Data columns (total 81 columns):\n",
            " #   Column         Non-Null Count  Dtype  \n",
            "---  ------         --------------  -----  \n",
            " 0   Id             1460 non-null   int64  \n",
            " 1   MSSubClass     1460 non-null   int64  \n",
            " 2   MSZoning       1460 non-null   object \n",
            " 3   LotFrontage    1201 non-null   float64\n",
            " 4   LotArea        1460 non-null   int64  \n",
            " 5   Street         1460 non-null   object \n",
            " 6   Alley          91 non-null     object \n",
            " 7   LotShape       1460 non-null   object \n",
            " 8   LandContour    1460 non-null   object \n",
            " 9   Utilities      1460 non-null   object \n",
            " 10  LotConfig      1460 non-null   object \n",
            " 11  LandSlope      1460 non-null   object \n",
            " 12  Neighborhood   1460 non-null   object \n",
            " 13  Condition1     1460 non-null   object \n",
            " 14  Condition2     1460 non-null   object \n",
            " 15  BldgType       1460 non-null   object \n",
            " 16  HouseStyle     1460 non-null   object \n",
            " 17  OverallQual    1460 non-null   int64  \n",
            " 18  OverallCond    1460 non-null   int64  \n",
            " 19  YearBuilt      1460 non-null   int64  \n",
            " 20  YearRemodAdd   1460 non-null   int64  \n",
            " 21  RoofStyle      1460 non-null   object \n",
            " 22  RoofMatl       1460 non-null   object \n",
            " 23  Exterior1st    1460 non-null   object \n",
            " 24  Exterior2nd    1460 non-null   object \n",
            " 25  MasVnrType     1452 non-null   object \n",
            " 26  MasVnrArea     1452 non-null   float64\n",
            " 27  ExterQual      1460 non-null   object \n",
            " 28  ExterCond      1460 non-null   object \n",
            " 29  Foundation     1460 non-null   object \n",
            " 30  BsmtQual       1423 non-null   object \n",
            " 31  BsmtCond       1423 non-null   object \n",
            " 32  BsmtExposure   1422 non-null   object \n",
            " 33  BsmtFinType1   1423 non-null   object \n",
            " 34  BsmtFinSF1     1460 non-null   int64  \n",
            " 35  BsmtFinType2   1422 non-null   object \n",
            " 36  BsmtFinSF2     1460 non-null   int64  \n",
            " 37  BsmtUnfSF      1460 non-null   int64  \n",
            " 38  TotalBsmtSF    1460 non-null   int64  \n",
            " 39  Heating        1460 non-null   object \n",
            " 40  HeatingQC      1460 non-null   object \n",
            " 41  CentralAir     1460 non-null   object \n",
            " 42  Electrical     1459 non-null   object \n",
            " 43  1stFlrSF       1460 non-null   int64  \n",
            " 44  2ndFlrSF       1460 non-null   int64  \n",
            " 45  LowQualFinSF   1460 non-null   int64  \n",
            " 46  GrLivArea      1460 non-null   int64  \n",
            " 47  BsmtFullBath   1460 non-null   int64  \n",
            " 48  BsmtHalfBath   1460 non-null   int64  \n",
            " 49  FullBath       1460 non-null   int64  \n",
            " 50  HalfBath       1460 non-null   int64  \n",
            " 51  BedroomAbvGr   1460 non-null   int64  \n",
            " 52  KitchenAbvGr   1460 non-null   int64  \n",
            " 53  KitchenQual    1460 non-null   object \n",
            " 54  TotRmsAbvGrd   1460 non-null   int64  \n",
            " 55  Functional     1460 non-null   object \n",
            " 56  Fireplaces     1460 non-null   int64  \n",
            " 57  FireplaceQu    770 non-null    object \n",
            " 58  GarageType     1379 non-null   object \n",
            " 59  GarageYrBlt    1379 non-null   float64\n",
            " 60  GarageFinish   1379 non-null   object \n",
            " 61  GarageCars     1460 non-null   int64  \n",
            " 62  GarageArea     1460 non-null   int64  \n",
            " 63  GarageQual     1379 non-null   object \n",
            " 64  GarageCond     1379 non-null   object \n",
            " 65  PavedDrive     1460 non-null   object \n",
            " 66  WoodDeckSF     1460 non-null   int64  \n",
            " 67  OpenPorchSF    1460 non-null   int64  \n",
            " 68  EnclosedPorch  1460 non-null   int64  \n",
            " 69  3SsnPorch      1460 non-null   int64  \n",
            " 70  ScreenPorch    1460 non-null   int64  \n",
            " 71  PoolArea       1460 non-null   int64  \n",
            " 72  PoolQC         7 non-null      object \n",
            " 73  Fence          281 non-null    object \n",
            " 74  MiscFeature    54 non-null     object \n",
            " 75  MiscVal        1460 non-null   int64  \n",
            " 76  MoSold         1460 non-null   int64  \n",
            " 77  YrSold         1460 non-null   int64  \n",
            " 78  SaleType       1460 non-null   object \n",
            " 79  SaleCondition  1460 non-null   object \n",
            " 80  SalePrice      1460 non-null   int64  \n",
            "dtypes: float64(3), int64(35), object(43)\n",
            "memory usage: 924.0+ KB\n"
          ]
        }
      ]
    },
    {
      "cell_type": "code",
      "source": [
        "#variables categoricas\n",
        "columnas_categoricas = data.select_dtypes(include=['object']).columns\n"
      ],
      "metadata": {
        "id": "sFmWfM7Mjn9Z"
      },
      "execution_count": 114,
      "outputs": []
    },
    {
      "cell_type": "code",
      "source": [
        "#Procesamiento de frases o palabras\n",
        "for columna in columnas_categoricas:\n",
        "  le = LabelEncoder()\n",
        "  data[columna] = le.fit_transform(data[columna])"
      ],
      "metadata": {
        "id": "GcxRaOoqkOyD"
      },
      "execution_count": 115,
      "outputs": []
    },
    {
      "cell_type": "code",
      "source": [
        "#resultado\n",
        "print(data)"
      ],
      "metadata": {
        "colab": {
          "base_uri": "https://localhost:8080/"
        },
        "id": "vHzN_Uj0kS96",
        "outputId": "fd8a57cf-5a65-4254-acc2-cc84fa0999ad"
      },
      "execution_count": 116,
      "outputs": [
        {
          "output_type": "stream",
          "name": "stdout",
          "text": [
            "        Id  MSSubClass  MSZoning  LotFrontage  LotArea  Street  Alley  \\\n",
            "0        1          60         3         65.0     8450       1      2   \n",
            "1        2          20         3         80.0     9600       1      2   \n",
            "2        3          60         3         68.0    11250       1      2   \n",
            "3        4          70         3         60.0     9550       1      2   \n",
            "4        5          60         3         84.0    14260       1      2   \n",
            "...    ...         ...       ...          ...      ...     ...    ...   \n",
            "1455  1456          60         3         62.0     7917       1      2   \n",
            "1456  1457          20         3         85.0    13175       1      2   \n",
            "1457  1458          70         3         66.0     9042       1      2   \n",
            "1458  1459          20         3         68.0     9717       1      2   \n",
            "1459  1460          20         3         75.0     9937       1      2   \n",
            "\n",
            "      LotShape  LandContour  Utilities  ...  PoolArea  PoolQC  Fence  \\\n",
            "0            3            3          0  ...         0       3      4   \n",
            "1            3            3          0  ...         0       3      4   \n",
            "2            0            3          0  ...         0       3      4   \n",
            "3            0            3          0  ...         0       3      4   \n",
            "4            0            3          0  ...         0       3      4   \n",
            "...        ...          ...        ...  ...       ...     ...    ...   \n",
            "1455         3            3          0  ...         0       3      4   \n",
            "1456         3            3          0  ...         0       3      2   \n",
            "1457         3            3          0  ...         0       3      0   \n",
            "1458         3            3          0  ...         0       3      4   \n",
            "1459         3            3          0  ...         0       3      4   \n",
            "\n",
            "      MiscFeature  MiscVal  MoSold  YrSold  SaleType  SaleCondition  SalePrice  \n",
            "0               4        0       2    2008         8              4     208500  \n",
            "1               4        0       5    2007         8              4     181500  \n",
            "2               4        0       9    2008         8              4     223500  \n",
            "3               4        0       2    2006         8              0     140000  \n",
            "4               4        0      12    2008         8              4     250000  \n",
            "...           ...      ...     ...     ...       ...            ...        ...  \n",
            "1455            4        0       8    2007         8              4     175000  \n",
            "1456            4        0       2    2010         8              4     210000  \n",
            "1457            2     2500       5    2010         8              4     266500  \n",
            "1458            4        0       4    2010         8              4     142125  \n",
            "1459            4        0       6    2008         8              4     147500  \n",
            "\n",
            "[1460 rows x 81 columns]\n"
          ]
        }
      ]
    },
    {
      "cell_type": "code",
      "source": [
        "data.info()"
      ],
      "metadata": {
        "colab": {
          "base_uri": "https://localhost:8080/"
        },
        "id": "tJ9GFsACksGy",
        "outputId": "eb037d3a-22b8-46fc-b3ea-bb619af2d4af"
      },
      "execution_count": 117,
      "outputs": [
        {
          "output_type": "stream",
          "name": "stdout",
          "text": [
            "<class 'pandas.core.frame.DataFrame'>\n",
            "RangeIndex: 1460 entries, 0 to 1459\n",
            "Data columns (total 81 columns):\n",
            " #   Column         Non-Null Count  Dtype  \n",
            "---  ------         --------------  -----  \n",
            " 0   Id             1460 non-null   int64  \n",
            " 1   MSSubClass     1460 non-null   int64  \n",
            " 2   MSZoning       1460 non-null   int64  \n",
            " 3   LotFrontage    1201 non-null   float64\n",
            " 4   LotArea        1460 non-null   int64  \n",
            " 5   Street         1460 non-null   int64  \n",
            " 6   Alley          1460 non-null   int64  \n",
            " 7   LotShape       1460 non-null   int64  \n",
            " 8   LandContour    1460 non-null   int64  \n",
            " 9   Utilities      1460 non-null   int64  \n",
            " 10  LotConfig      1460 non-null   int64  \n",
            " 11  LandSlope      1460 non-null   int64  \n",
            " 12  Neighborhood   1460 non-null   int64  \n",
            " 13  Condition1     1460 non-null   int64  \n",
            " 14  Condition2     1460 non-null   int64  \n",
            " 15  BldgType       1460 non-null   int64  \n",
            " 16  HouseStyle     1460 non-null   int64  \n",
            " 17  OverallQual    1460 non-null   int64  \n",
            " 18  OverallCond    1460 non-null   int64  \n",
            " 19  YearBuilt      1460 non-null   int64  \n",
            " 20  YearRemodAdd   1460 non-null   int64  \n",
            " 21  RoofStyle      1460 non-null   int64  \n",
            " 22  RoofMatl       1460 non-null   int64  \n",
            " 23  Exterior1st    1460 non-null   int64  \n",
            " 24  Exterior2nd    1460 non-null   int64  \n",
            " 25  MasVnrType     1460 non-null   int64  \n",
            " 26  MasVnrArea     1452 non-null   float64\n",
            " 27  ExterQual      1460 non-null   int64  \n",
            " 28  ExterCond      1460 non-null   int64  \n",
            " 29  Foundation     1460 non-null   int64  \n",
            " 30  BsmtQual       1460 non-null   int64  \n",
            " 31  BsmtCond       1460 non-null   int64  \n",
            " 32  BsmtExposure   1460 non-null   int64  \n",
            " 33  BsmtFinType1   1460 non-null   int64  \n",
            " 34  BsmtFinSF1     1460 non-null   int64  \n",
            " 35  BsmtFinType2   1460 non-null   int64  \n",
            " 36  BsmtFinSF2     1460 non-null   int64  \n",
            " 37  BsmtUnfSF      1460 non-null   int64  \n",
            " 38  TotalBsmtSF    1460 non-null   int64  \n",
            " 39  Heating        1460 non-null   int64  \n",
            " 40  HeatingQC      1460 non-null   int64  \n",
            " 41  CentralAir     1460 non-null   int64  \n",
            " 42  Electrical     1460 non-null   int64  \n",
            " 43  1stFlrSF       1460 non-null   int64  \n",
            " 44  2ndFlrSF       1460 non-null   int64  \n",
            " 45  LowQualFinSF   1460 non-null   int64  \n",
            " 46  GrLivArea      1460 non-null   int64  \n",
            " 47  BsmtFullBath   1460 non-null   int64  \n",
            " 48  BsmtHalfBath   1460 non-null   int64  \n",
            " 49  FullBath       1460 non-null   int64  \n",
            " 50  HalfBath       1460 non-null   int64  \n",
            " 51  BedroomAbvGr   1460 non-null   int64  \n",
            " 52  KitchenAbvGr   1460 non-null   int64  \n",
            " 53  KitchenQual    1460 non-null   int64  \n",
            " 54  TotRmsAbvGrd   1460 non-null   int64  \n",
            " 55  Functional     1460 non-null   int64  \n",
            " 56  Fireplaces     1460 non-null   int64  \n",
            " 57  FireplaceQu    1460 non-null   int64  \n",
            " 58  GarageType     1460 non-null   int64  \n",
            " 59  GarageYrBlt    1379 non-null   float64\n",
            " 60  GarageFinish   1460 non-null   int64  \n",
            " 61  GarageCars     1460 non-null   int64  \n",
            " 62  GarageArea     1460 non-null   int64  \n",
            " 63  GarageQual     1460 non-null   int64  \n",
            " 64  GarageCond     1460 non-null   int64  \n",
            " 65  PavedDrive     1460 non-null   int64  \n",
            " 66  WoodDeckSF     1460 non-null   int64  \n",
            " 67  OpenPorchSF    1460 non-null   int64  \n",
            " 68  EnclosedPorch  1460 non-null   int64  \n",
            " 69  3SsnPorch      1460 non-null   int64  \n",
            " 70  ScreenPorch    1460 non-null   int64  \n",
            " 71  PoolArea       1460 non-null   int64  \n",
            " 72  PoolQC         1460 non-null   int64  \n",
            " 73  Fence          1460 non-null   int64  \n",
            " 74  MiscFeature    1460 non-null   int64  \n",
            " 75  MiscVal        1460 non-null   int64  \n",
            " 76  MoSold         1460 non-null   int64  \n",
            " 77  YrSold         1460 non-null   int64  \n",
            " 78  SaleType       1460 non-null   int64  \n",
            " 79  SaleCondition  1460 non-null   int64  \n",
            " 80  SalePrice      1460 non-null   int64  \n",
            "dtypes: float64(3), int64(78)\n",
            "memory usage: 924.0 KB\n"
          ]
        }
      ]
    },
    {
      "cell_type": "code",
      "source": [
        "#llenar datos vacios\n",
        "columnas_especificas = ['LotFrontage', 'MasVnrArea', 'GarageYrBlt']\n",
        "media_columnas = data[columnas_especificas].mean()\n",
        "data[columnas_especificas] = data[columnas_especificas].fillna(media_columnas)"
      ],
      "metadata": {
        "id": "aL01HjE1tMNP"
      },
      "execution_count": 118,
      "outputs": []
    },
    {
      "cell_type": "code",
      "source": [
        "data.info()"
      ],
      "metadata": {
        "colab": {
          "base_uri": "https://localhost:8080/"
        },
        "id": "IZheY0q7lvQg",
        "outputId": "6f10b632-07bd-4a6e-e655-f45eb4a73f45"
      },
      "execution_count": 119,
      "outputs": [
        {
          "output_type": "stream",
          "name": "stdout",
          "text": [
            "<class 'pandas.core.frame.DataFrame'>\n",
            "RangeIndex: 1460 entries, 0 to 1459\n",
            "Data columns (total 81 columns):\n",
            " #   Column         Non-Null Count  Dtype  \n",
            "---  ------         --------------  -----  \n",
            " 0   Id             1460 non-null   int64  \n",
            " 1   MSSubClass     1460 non-null   int64  \n",
            " 2   MSZoning       1460 non-null   int64  \n",
            " 3   LotFrontage    1460 non-null   float64\n",
            " 4   LotArea        1460 non-null   int64  \n",
            " 5   Street         1460 non-null   int64  \n",
            " 6   Alley          1460 non-null   int64  \n",
            " 7   LotShape       1460 non-null   int64  \n",
            " 8   LandContour    1460 non-null   int64  \n",
            " 9   Utilities      1460 non-null   int64  \n",
            " 10  LotConfig      1460 non-null   int64  \n",
            " 11  LandSlope      1460 non-null   int64  \n",
            " 12  Neighborhood   1460 non-null   int64  \n",
            " 13  Condition1     1460 non-null   int64  \n",
            " 14  Condition2     1460 non-null   int64  \n",
            " 15  BldgType       1460 non-null   int64  \n",
            " 16  HouseStyle     1460 non-null   int64  \n",
            " 17  OverallQual    1460 non-null   int64  \n",
            " 18  OverallCond    1460 non-null   int64  \n",
            " 19  YearBuilt      1460 non-null   int64  \n",
            " 20  YearRemodAdd   1460 non-null   int64  \n",
            " 21  RoofStyle      1460 non-null   int64  \n",
            " 22  RoofMatl       1460 non-null   int64  \n",
            " 23  Exterior1st    1460 non-null   int64  \n",
            " 24  Exterior2nd    1460 non-null   int64  \n",
            " 25  MasVnrType     1460 non-null   int64  \n",
            " 26  MasVnrArea     1460 non-null   float64\n",
            " 27  ExterQual      1460 non-null   int64  \n",
            " 28  ExterCond      1460 non-null   int64  \n",
            " 29  Foundation     1460 non-null   int64  \n",
            " 30  BsmtQual       1460 non-null   int64  \n",
            " 31  BsmtCond       1460 non-null   int64  \n",
            " 32  BsmtExposure   1460 non-null   int64  \n",
            " 33  BsmtFinType1   1460 non-null   int64  \n",
            " 34  BsmtFinSF1     1460 non-null   int64  \n",
            " 35  BsmtFinType2   1460 non-null   int64  \n",
            " 36  BsmtFinSF2     1460 non-null   int64  \n",
            " 37  BsmtUnfSF      1460 non-null   int64  \n",
            " 38  TotalBsmtSF    1460 non-null   int64  \n",
            " 39  Heating        1460 non-null   int64  \n",
            " 40  HeatingQC      1460 non-null   int64  \n",
            " 41  CentralAir     1460 non-null   int64  \n",
            " 42  Electrical     1460 non-null   int64  \n",
            " 43  1stFlrSF       1460 non-null   int64  \n",
            " 44  2ndFlrSF       1460 non-null   int64  \n",
            " 45  LowQualFinSF   1460 non-null   int64  \n",
            " 46  GrLivArea      1460 non-null   int64  \n",
            " 47  BsmtFullBath   1460 non-null   int64  \n",
            " 48  BsmtHalfBath   1460 non-null   int64  \n",
            " 49  FullBath       1460 non-null   int64  \n",
            " 50  HalfBath       1460 non-null   int64  \n",
            " 51  BedroomAbvGr   1460 non-null   int64  \n",
            " 52  KitchenAbvGr   1460 non-null   int64  \n",
            " 53  KitchenQual    1460 non-null   int64  \n",
            " 54  TotRmsAbvGrd   1460 non-null   int64  \n",
            " 55  Functional     1460 non-null   int64  \n",
            " 56  Fireplaces     1460 non-null   int64  \n",
            " 57  FireplaceQu    1460 non-null   int64  \n",
            " 58  GarageType     1460 non-null   int64  \n",
            " 59  GarageYrBlt    1460 non-null   float64\n",
            " 60  GarageFinish   1460 non-null   int64  \n",
            " 61  GarageCars     1460 non-null   int64  \n",
            " 62  GarageArea     1460 non-null   int64  \n",
            " 63  GarageQual     1460 non-null   int64  \n",
            " 64  GarageCond     1460 non-null   int64  \n",
            " 65  PavedDrive     1460 non-null   int64  \n",
            " 66  WoodDeckSF     1460 non-null   int64  \n",
            " 67  OpenPorchSF    1460 non-null   int64  \n",
            " 68  EnclosedPorch  1460 non-null   int64  \n",
            " 69  3SsnPorch      1460 non-null   int64  \n",
            " 70  ScreenPorch    1460 non-null   int64  \n",
            " 71  PoolArea       1460 non-null   int64  \n",
            " 72  PoolQC         1460 non-null   int64  \n",
            " 73  Fence          1460 non-null   int64  \n",
            " 74  MiscFeature    1460 non-null   int64  \n",
            " 75  MiscVal        1460 non-null   int64  \n",
            " 76  MoSold         1460 non-null   int64  \n",
            " 77  YrSold         1460 non-null   int64  \n",
            " 78  SaleType       1460 non-null   int64  \n",
            " 79  SaleCondition  1460 non-null   int64  \n",
            " 80  SalePrice      1460 non-null   int64  \n",
            "dtypes: float64(3), int64(78)\n",
            "memory usage: 924.0 KB\n"
          ]
        }
      ]
    },
    {
      "cell_type": "code",
      "source": [
        "columnas_seleccionadas = [3] + [4] + [12]  + [16] + [19] + [26] + [34] + [46] + [53] + [59] + [61]\n",
        "X = data.iloc[:, columnas_seleccionadas]\n",
        "y = data.iloc[:, 80]\n",
        "m = y.size\n",
        "X.info()"
      ],
      "metadata": {
        "id": "YuuRUXgCwvZ_",
        "colab": {
          "base_uri": "https://localhost:8080/"
        },
        "outputId": "57266a94-d8ee-4a69-8189-67ff40240399"
      },
      "execution_count": 120,
      "outputs": [
        {
          "output_type": "stream",
          "name": "stdout",
          "text": [
            "<class 'pandas.core.frame.DataFrame'>\n",
            "RangeIndex: 1460 entries, 0 to 1459\n",
            "Data columns (total 11 columns):\n",
            " #   Column        Non-Null Count  Dtype  \n",
            "---  ------        --------------  -----  \n",
            " 0   LotFrontage   1460 non-null   float64\n",
            " 1   LotArea       1460 non-null   int64  \n",
            " 2   Neighborhood  1460 non-null   int64  \n",
            " 3   HouseStyle    1460 non-null   int64  \n",
            " 4   YearBuilt     1460 non-null   int64  \n",
            " 5   MasVnrArea    1460 non-null   float64\n",
            " 6   BsmtFinSF1    1460 non-null   int64  \n",
            " 7   GrLivArea     1460 non-null   int64  \n",
            " 8   KitchenQual   1460 non-null   int64  \n",
            " 9   GarageYrBlt   1460 non-null   float64\n",
            " 10  GarageCars    1460 non-null   int64  \n",
            "dtypes: float64(3), int64(8)\n",
            "memory usage: 125.6 KB\n"
          ]
        }
      ]
    },
    {
      "cell_type": "code",
      "source": [
        "print(X)\n",
        "print('*'*25)\n",
        "print(y)"
      ],
      "metadata": {
        "colab": {
          "base_uri": "https://localhost:8080/"
        },
        "id": "x1NBC6A6xFoC",
        "outputId": "b5cca835-a091-43a5-9836-8ebfda42d110"
      },
      "execution_count": 121,
      "outputs": [
        {
          "output_type": "stream",
          "name": "stdout",
          "text": [
            "      LotFrontage  LotArea  Neighborhood  HouseStyle  YearBuilt  MasVnrArea  \\\n",
            "0            65.0     8450             5           5       2003       196.0   \n",
            "1            80.0     9600            24           2       1976         0.0   \n",
            "2            68.0    11250             5           5       2001       162.0   \n",
            "3            60.0     9550             6           5       1915         0.0   \n",
            "4            84.0    14260            15           5       2000       350.0   \n",
            "...           ...      ...           ...         ...        ...         ...   \n",
            "1455         62.0     7917             8           5       1999         0.0   \n",
            "1456         85.0    13175            14           2       1978       119.0   \n",
            "1457         66.0     9042             6           5       1941         0.0   \n",
            "1458         68.0     9717            12           2       1950         0.0   \n",
            "1459         75.0     9937             7           2       1965         0.0   \n",
            "\n",
            "      BsmtFinSF1  GrLivArea  KitchenQual  GarageYrBlt  GarageCars  \n",
            "0            706       1710            2       2003.0           2  \n",
            "1            978       1262            3       1976.0           2  \n",
            "2            486       1786            2       2001.0           2  \n",
            "3            216       1717            2       1998.0           3  \n",
            "4            655       2198            2       2000.0           3  \n",
            "...          ...        ...          ...          ...         ...  \n",
            "1455           0       1647            3       1999.0           2  \n",
            "1456         790       2073            3       1978.0           2  \n",
            "1457         275       2340            2       1941.0           1  \n",
            "1458          49       1078            2       1950.0           1  \n",
            "1459         830       1256            3       1965.0           1  \n",
            "\n",
            "[1460 rows x 11 columns]\n",
            "*************************\n",
            "0       208500\n",
            "1       181500\n",
            "2       223500\n",
            "3       140000\n",
            "4       250000\n",
            "         ...  \n",
            "1455    175000\n",
            "1456    210000\n",
            "1457    266500\n",
            "1458    142125\n",
            "1459    147500\n",
            "Name: SalePrice, Length: 1460, dtype: int64\n"
          ]
        }
      ]
    },
    {
      "cell_type": "code",
      "source": [
        "def  featureNormalize(X):\n",
        "    X_norm = X.copy()\n",
        "    mu = np.zeros(X.shape[1])\n",
        "    sigma = np.zeros(X.shape[1])\n",
        "\n",
        "    mu = np.mean(X, axis = 0)\n",
        "    sigma = np.std(X, axis = 0)\n",
        "    X_norm = (X - mu) / sigma\n",
        "\n",
        "    return X_norm, mu, sigma"
      ],
      "metadata": {
        "id": "DrrFytt2gkI8"
      },
      "execution_count": 122,
      "outputs": []
    },
    {
      "cell_type": "code",
      "source": [
        "# llama featureNormalize con los datos cargados\n",
        "X_norm, mu, sigma = featureNormalize(X)\n",
        "\n",
        "print(X)\n",
        "print('Media calculada:', mu)\n",
        "print('Desviación estandar calculada:', sigma)\n",
        "print(X_norm)"
      ],
      "metadata": {
        "colab": {
          "base_uri": "https://localhost:8080/"
        },
        "id": "MhHhItqc4YLy",
        "outputId": "f93a46c6-ea37-4578-af7a-d968de96d147"
      },
      "execution_count": 123,
      "outputs": [
        {
          "output_type": "stream",
          "name": "stdout",
          "text": [
            "      LotFrontage  LotArea  Neighborhood  HouseStyle  YearBuilt  MasVnrArea  \\\n",
            "0            65.0     8450             5           5       2003       196.0   \n",
            "1            80.0     9600            24           2       1976         0.0   \n",
            "2            68.0    11250             5           5       2001       162.0   \n",
            "3            60.0     9550             6           5       1915         0.0   \n",
            "4            84.0    14260            15           5       2000       350.0   \n",
            "...           ...      ...           ...         ...        ...         ...   \n",
            "1455         62.0     7917             8           5       1999         0.0   \n",
            "1456         85.0    13175            14           2       1978       119.0   \n",
            "1457         66.0     9042             6           5       1941         0.0   \n",
            "1458         68.0     9717            12           2       1950         0.0   \n",
            "1459         75.0     9937             7           2       1965         0.0   \n",
            "\n",
            "      BsmtFinSF1  GrLivArea  KitchenQual  GarageYrBlt  GarageCars  \n",
            "0            706       1710            2       2003.0           2  \n",
            "1            978       1262            3       1976.0           2  \n",
            "2            486       1786            2       2001.0           2  \n",
            "3            216       1717            2       1998.0           3  \n",
            "4            655       2198            2       2000.0           3  \n",
            "...          ...        ...          ...          ...         ...  \n",
            "1455           0       1647            3       1999.0           2  \n",
            "1456         790       2073            3       1978.0           2  \n",
            "1457         275       2340            2       1941.0           1  \n",
            "1458          49       1078            2       1950.0           1  \n",
            "1459         830       1256            3       1965.0           1  \n",
            "\n",
            "[1460 rows x 11 columns]\n",
            "Media calculada: LotFrontage        70.049958\n",
            "LotArea         10516.828082\n",
            "Neighborhood       12.251370\n",
            "HouseStyle          3.038356\n",
            "YearBuilt        1971.267808\n",
            "MasVnrArea        103.685262\n",
            "BsmtFinSF1        443.639726\n",
            "GrLivArea        1515.463699\n",
            "KitchenQual         2.339726\n",
            "GarageYrBlt      1978.506164\n",
            "GarageCars          1.767123\n",
            "dtype: float64\n",
            "Desviación estandar calculada: LotFrontage       22.016479\n",
            "LotArea         9977.846105\n",
            "Neighborhood       6.011675\n",
            "HouseStyle         1.910650\n",
            "YearBuilt         30.192559\n",
            "MasVnrArea       180.507263\n",
            "BsmtFinSF1       455.941866\n",
            "GrLivArea        525.300394\n",
            "KitchenQual        0.829877\n",
            "GarageYrBlt       23.986365\n",
            "GarageCars         0.747059\n",
            "dtype: float64\n",
            "      LotFrontage   LotArea  Neighborhood  HouseStyle  YearBuilt  MasVnrArea  \\\n",
            "0       -0.229372 -0.207142     -1.206215    1.026689   1.050994    0.511418   \n",
            "1        0.451936 -0.091886      1.954302   -0.543457   0.156734   -0.574410   \n",
            "2       -0.093110  0.073480     -1.206215    1.026689   0.984752    0.323060   \n",
            "3       -0.456474 -0.096897     -1.039872    1.026689  -1.863632   -0.574410   \n",
            "4        0.633618  0.375148      0.457215    1.026689   0.951632    1.364570   \n",
            "...           ...       ...           ...         ...        ...         ...   \n",
            "1455    -0.365633 -0.260560     -0.707186    1.026689   0.918511   -0.574410   \n",
            "1456     0.679039  0.266407      0.290872   -0.543457   0.222975    0.084843   \n",
            "1457    -0.183951 -0.147810     -1.039872    1.026689  -1.002492   -0.574410   \n",
            "1458    -0.093110 -0.080160     -0.041814   -0.543457  -0.704406   -0.574410   \n",
            "1459     0.224833 -0.058112     -0.873529   -0.543457  -0.207594   -0.574410   \n",
            "\n",
            "      BsmtFinSF1  GrLivArea  KitchenQual  GarageYrBlt  GarageCars  \n",
            "0       0.575425   0.370333    -0.409369     1.021157    0.311725  \n",
            "1       1.171992  -0.482512     0.795629    -0.104483    0.311725  \n",
            "2       0.092907   0.515013    -0.409369     0.937776    0.311725  \n",
            "3      -0.499274   0.383659    -0.409369     0.812705    1.650307  \n",
            "4       0.463568   1.299326    -0.409369     0.896086    1.650307  \n",
            "...          ...        ...          ...          ...         ...  \n",
            "1455   -0.973018   0.250402     0.795629     0.854395    0.311725  \n",
            "1456    0.759659   1.061367     0.795629    -0.021102    0.311725  \n",
            "1457   -0.369871   1.569647    -0.409369    -1.563645   -1.026858  \n",
            "1458   -0.865548  -0.832788    -0.409369    -1.188432   -1.026858  \n",
            "1459    0.847389  -0.493934     0.795629    -0.563077   -1.026858  \n",
            "\n",
            "[1460 rows x 11 columns]\n"
          ]
        }
      ]
    },
    {
      "cell_type": "code",
      "source": [
        "# Añade el termino de interseccion a X\n",
        "# (Columna de unos para X0)\n",
        "X = np.concatenate([np.ones((m, 1)), X_norm], axis=1)"
      ],
      "metadata": {
        "id": "EB4cCmdm4bxJ"
      },
      "execution_count": 124,
      "outputs": []
    },
    {
      "cell_type": "code",
      "source": [
        "print(X)"
      ],
      "metadata": {
        "colab": {
          "base_uri": "https://localhost:8080/"
        },
        "id": "jxdWrQDC4fcD",
        "outputId": "ba9de4e9-f63d-4e55-8124-61a98e0db5da"
      },
      "execution_count": 125,
      "outputs": [
        {
          "output_type": "stream",
          "name": "stdout",
          "text": [
            "[[ 1.         -0.22937175 -0.20714171 ... -0.40936914  1.02115667\n",
            "   0.31172464]\n",
            " [ 1.          0.4519361  -0.09188637 ...  0.79562873 -0.10448286\n",
            "   0.31172464]\n",
            " [ 1.         -0.09311018  0.07347998 ... -0.40936914  0.93777596\n",
            "   0.31172464]\n",
            " ...\n",
            " [ 1.         -0.18395123 -0.14781027 ... -0.40936914 -1.56364521\n",
            "  -1.02685765]\n",
            " [ 1.         -0.09311018 -0.08016039 ... -0.40936914 -1.18843203\n",
            "  -1.02685765]\n",
            " [ 1.          0.22483348 -0.05811155 ...  0.79562873 -0.56307674\n",
            "  -1.02685765]]\n"
          ]
        }
      ]
    },
    {
      "cell_type": "code",
      "source": [
        "def computeCostMulti(X, y, theta):\n",
        "    # Inicializa algunos valores utiles\n",
        "    m = y.shape[0] # numero de ejemplos de entrenamiento\n",
        "\n",
        "    J = 0\n",
        "\n",
        "    h = np.dot(X, theta)\n",
        "\n",
        "    J = (1/(2 * m)) * np.sum(np.square(np.dot(X, theta) - y))\n",
        "\n",
        "    return J\n"
      ],
      "metadata": {
        "id": "is_NER384kX5"
      },
      "execution_count": 126,
      "outputs": []
    },
    {
      "cell_type": "code",
      "source": [
        "def gradientDescentMulti(X, y, theta, alpha, num_iters):\n",
        "\n",
        "    # Inicializa algunos valores\n",
        "    m = y.shape[0] # numero de ejemplos de entrenamiento\n",
        "\n",
        "    # realiza una copia de theta, el cual será acutalizada por el descenso por el gradiente\n",
        "    theta = theta.copy()\n",
        "\n",
        "    J_history = []\n",
        "\n",
        "    for i in range(num_iters):\n",
        "        theta = theta - (alpha / m) * (np.dot(X, theta) - y).dot(X)\n",
        "        J_history.append(computeCostMulti(X, y, theta))\n",
        "\n",
        "    return theta, J_history"
      ],
      "metadata": {
        "id": "NTic99Il4k9H"
      },
      "execution_count": 127,
      "outputs": []
    },
    {
      "cell_type": "code",
      "source": [
        "# Elegir algun valor para alpha (probar varias alternativas)\n",
        "alpha = 0.001\n",
        "num_iters = 5000\n",
        "\n",
        "# inicializa theta y ejecuta el descenso por el gradiente\n",
        "theta = np.zeros(12)\n",
        "theta, J_history = gradientDescentMulti(X, y, theta, alpha, num_iters)\n",
        "\n",
        "# Grafica la convergencia del costo\n",
        "pyplot.plot(np.arange(len(J_history)), J_history, lw=2)\n",
        "pyplot.xlabel('Numero de iteraciones')\n",
        "pyplot.ylabel('Costo J')\n",
        "\n",
        "# Muestra los resultados del descenso por el gradiente\n",
        "print('theta calculado por el descenso por el gradiente: {:s}'.format(str(theta)))\n",
        "\n",
        "# Estimar el precio para un smart watch con distintas caracteristicas\n",
        "X_array = [1, 65.0, 8450, 5, 5, 2003, 196.0, 706, 1710, 2, 2003.0, 2]\n",
        "X_array[1:12] = (X_array[1:12] - mu) / sigma\n",
        "price = np.dot(X_array, theta)   # Se debe cambiar esto\n",
        "\n",
        "print('El valor predecido es (usando el descenso por el gradiente): {:.4f}'.format(price))"
      ],
      "metadata": {
        "colab": {
          "base_uri": "https://localhost:8080/",
          "height": 534
        },
        "id": "2sc2AmKF4qJQ",
        "outputId": "674bc6c0-a556-4b57-ff96-54c75deebfed"
      },
      "execution_count": 128,
      "outputs": [
        {
          "output_type": "stream",
          "name": "stdout",
          "text": [
            "theta calculado por el descenso por el gradiente: [179705.20427692    600.54039719   5949.53662446   2939.69530125\n",
            "  -3665.81048428  12334.51951271   7419.55213658   9773.78038212\n",
            "  31740.4699496  -19018.75170774   4020.06372596  14845.84511019]\n",
            "El valor predecido es (usando el descenso por el gradiente): 221680.7618\n"
          ]
        },
        {
          "output_type": "display_data",
          "data": {
            "text/plain": [
              "<Figure size 640x480 with 1 Axes>"
            ],
            "image/png": "[encoded data removed]"
          },
          "metadata": {}
        }
      ]
    },
    {
      "cell_type": "code",
      "source": [
        "columnas_seleccionadas = [3] + [4] + [12]  + [16] + [19] + [26] + [34] + [46] + [53] + [59] + [61]\n",
        "w = data.iloc[:, columnas_seleccionadas]\n",
        "z = data.iloc[:, 80]\n",
        "n = z.size\n",
        "w.info()"
      ],
      "metadata": {
        "colab": {
          "base_uri": "https://localhost:8080/"
        },
        "id": "6RY17i3QMqBv",
        "outputId": "f4ce6376-0257-4ff8-ee81-e8603bcd0923"
      },
      "execution_count": 153,
      "outputs": [
        {
          "output_type": "stream",
          "name": "stdout",
          "text": [
            "<class 'pandas.core.frame.DataFrame'>\n",
            "RangeIndex: 1460 entries, 0 to 1459\n",
            "Data columns (total 11 columns):\n",
            " #   Column        Non-Null Count  Dtype  \n",
            "---  ------        --------------  -----  \n",
            " 0   LotFrontage   1460 non-null   float64\n",
            " 1   LotArea       1460 non-null   int64  \n",
            " 2   Neighborhood  1460 non-null   int64  \n",
            " 3   HouseStyle    1460 non-null   int64  \n",
            " 4   YearBuilt     1460 non-null   int64  \n",
            " 5   MasVnrArea    1460 non-null   float64\n",
            " 6   BsmtFinSF1    1460 non-null   int64  \n",
            " 7   GrLivArea     1460 non-null   int64  \n",
            " 8   KitchenQual   1460 non-null   int64  \n",
            " 9   GarageYrBlt   1460 non-null   float64\n",
            " 10  GarageCars    1460 non-null   int64  \n",
            "dtypes: float64(3), int64(8)\n",
            "memory usage: 125.6 KB\n"
          ]
        }
      ]
    },
    {
      "cell_type": "code",
      "source": [
        "# Añade el termino de interseccion a X\n",
        "# (Columna de unos para X0)\n",
        "w = np.concatenate([np.ones((n, 1)), w], axis=1)\n",
        "print (w)"
      ],
      "metadata": {
        "colab": {
          "base_uri": "https://localhost:8080/"
        },
        "id": "lZvGSc6TNAXv",
        "outputId": "561365fa-bff0-4fec-f74d-0cd79c597985"
      },
      "execution_count": 154,
      "outputs": [
        {
          "output_type": "stream",
          "name": "stdout",
          "text": [
            "[[1.000e+00 6.500e+01 8.450e+03 ... 2.000e+00 2.003e+03 2.000e+00]\n",
            " [1.000e+00 8.000e+01 9.600e+03 ... 3.000e+00 1.976e+03 2.000e+00]\n",
            " [1.000e+00 6.800e+01 1.125e+04 ... 2.000e+00 2.001e+03 2.000e+00]\n",
            " ...\n",
            " [1.000e+00 6.600e+01 9.042e+03 ... 2.000e+00 1.941e+03 1.000e+00]\n",
            " [1.000e+00 6.800e+01 9.717e+03 ... 2.000e+00 1.950e+03 1.000e+00]\n",
            " [1.000e+00 7.500e+01 9.937e+03 ... 3.000e+00 1.965e+03 1.000e+00]]\n"
          ]
        }
      ]
    },
    {
      "cell_type": "code",
      "source": [
        "w_array = [1, 65.0, 8450, 5, 5, 2003, 196.0, 706, 1710, 2, 2003.0, 2]"
      ],
      "metadata": {
        "id": "pHpGapUtf4QP"
      },
      "execution_count": 155,
      "outputs": []
    },
    {
      "cell_type": "code",
      "source": [
        "w_array[1:12]"
      ],
      "metadata": {
        "colab": {
          "base_uri": "https://localhost:8080/"
        },
        "id": "c_fhRmzof56K",
        "outputId": "018ca06d-e7ea-429e-89b0-e95af0ad7ce2"
      },
      "execution_count": 156,
      "outputs": [
        {
          "output_type": "execute_result",
          "data": {
            "text/plain": [
              "[65.0, 8450, 5, 5, 2003, 196.0, 706, 1710, 2, 2003.0, 2]"
            ]
          },
          "metadata": {},
          "execution_count": 156
        }
      ]
    },
    {
      "cell_type": "code",
      "source": [
        "def normalEqn(w, z):\n",
        "\n",
        "    thetas = np.zeros(w.shape[1])\n",
        "\n",
        "    thetas = np.dot(np.dot(np.linalg.inv(np.dot(w.T,w)),w.T),z)\n",
        "\n",
        "    return thetas"
      ],
      "metadata": {
        "id": "_MMoIdODf9FN"
      },
      "execution_count": 157,
      "outputs": []
    },
    {
      "cell_type": "code",
      "source": [
        "# Calcula los parametros con la ecuación de la normal\n",
        "thetas = normalEqn(w, z);\n",
        "\n",
        "# Muestra los resultados optenidos a partir de la aplicación de la ecuación de la normal\n",
        "print('Theta calculado a partir de la ecuación de la normal: {:s}'.format(str(thetas)));\n",
        "\n",
        "# Estimar el precio para una casa\n",
        "\n",
        "w_array = [1, 65.0, 8450, 5, 5, 2003, 196.0, 706, 1710, 2, 2003.0, 2]\n",
        "\n",
        "price = np.dot(w_array, thetas)\n",
        "\n",
        "print('Precio predecido para una casa en Los Angeles (usando la ecuación de la normal): ${:.0f}'.format(price))"
      ],
      "metadata": {
        "colab": {
          "base_uri": "https://localhost:8080/"
        },
        "id": "E7px4OMrf9un",
        "outputId": "b2981d24-7255-469a-e363-c4513546aa02"
      },
      "execution_count": 159,
      "outputs": [
        {
          "output_type": "stream",
          "name": "stdout",
          "text": [
            "Theta calculado a partir de la ecuación de la normal: [-1.05269900e+06 -1.27002538e+01  5.65476086e-01  4.94534537e+02\n",
            " -2.43122159e+03  5.38725719e+02  3.64893626e+01  2.09148910e+01\n",
            "  6.47451751e+01 -2.25699767e+04  3.87040476e+01  1.86566898e+04]\n",
            "Precio predecido para una casa en Los Angeles (usando la ecuación de la normal): $222968\n"
          ]
        }
      ]
    }
  ]
}